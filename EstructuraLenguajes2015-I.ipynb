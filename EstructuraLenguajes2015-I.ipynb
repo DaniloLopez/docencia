{
 "metadata": {
  "name": "",
  "signature": "sha256:e59951427a560b47a2b75212e6b24a33528465867a49a990e1b3658ce4049433"
 },
 "nbformat": 3,
 "nbformat_minor": 0,
 "worksheets": [
  {
   "cells": [
    {
     "cell_type": "markdown",
     "metadata": {},
     "source": [
      "## Estructuras de Lenguaje - Universidad del Cauca - 2015-I"
     ]
    },
    {
     "cell_type": "code",
     "collapsed": false,
     "input": [
      "%load_ext cppmagic"
     ],
     "language": "python",
     "metadata": {},
     "outputs": [],
     "prompt_number": 14
    },
    {
     "cell_type": "markdown",
     "metadata": {},
     "source": [
      "### Est\u00e1ndar C++11 (Progrmaci\u00f3n multiparadigma)\n",
      "\n",
      "#### Auto type (Definici\u00f3n din\u00e1mica de tipo de dato, en tiempo de compilaci\u00f3n)\n"
     ]
    },
    {
     "cell_type": "code",
     "collapsed": false,
     "input": [
      "%%cpp\n",
      "#include<iostream>\n",
      "#include<functional>\n",
      "\n",
      "int suma(int x, int y){\n",
      "    return x + y;\n",
      "}\n",
      "\n",
      "int main(int argc, char *argv[]){\n",
      "\n",
      "    using namespace std::placeholders;\n",
      "\n",
      "    auto x = 5; //x es de tipo entero\n",
      "    auto y = suma(x, 7);\n",
      "    \n",
      "    auto _l = 0;\n",
      "    auto sum3 = std::bind(suma, 3, _1);\n",
      "    auto w = sum3(4.5);\n",
      "\n",
      "    std::cout<<w<<\"\\n\";\n",
      "}"
     ],
     "language": "python",
     "metadata": {},
     "outputs": [
      {
       "metadata": {},
       "output_type": "pyout",
       "prompt_number": 26,
       "text": [
        "['Hello world!']"
       ]
      }
     ],
     "prompt_number": 26
    },
    {
     "cell_type": "markdown",
     "metadata": {},
     "source": [
      "Uso de **dcltype** y **auto**. La funci\u00f3n *suma2* es una *funcion gen\u00e9rica* recibe dos par\u00e1metros num\u00e9ricos (estos pueden ser enteros o flotantes) y retorna un resultado que su tipo de dato depende del tipo de dato de los par\u00e1metros y esto se define en *tiempo de compilaci\u00f3n*."
     ]
    },
    {
     "cell_type": "code",
     "collapsed": false,
     "input": [
      "%%cpp\n",
      "#include<iostream>\n",
      "#include<functional>\n",
      "\n",
      "int suma(int x, int y){\n",
      "    return x + y;\n",
      "}\n",
      "\n",
      "template <typename T1, typename T2>\n",
      "auto suma2(T1 x, T2 y) -> decltype(x+y){\n",
      "   return x + y;\n",
      "}\n",
      "\n",
      "int main(int argc, char *argv[]){\n",
      "\n",
      "    using namespace std::placeholders;\n",
      "\n",
      "    auto x = 5; //x es de tipo entero\n",
      "    auto y = suma(x, 7);\n",
      "    std::cout<<\"suma(x, 7): \"<< y <<std::endl;\n",
      "\n",
      "    auto sum3 = std::bind(suma, 3, _1); //sum3 es una funcion que envuelve (wrapper) a la funcion suma;\n",
      "                                        //pero la nueva funcion tienen un parametro por defecto que es 3,\n",
      "                                        //asi que sum3 en el momento de ser llamada solo recibe un parametro.\n",
      "    auto w = sum3(4.5);\n",
      "\n",
      "    std::cout<<\"sum3(4.5): \"<< w <<std::endl;\n",
      "\n",
      "//-------------------------\n",
      "    auto z = suma2(3, 5.5); //llamado a la funcion suma con parametros de diferente tipo de dato. El tipo\n",
      "                            //de dato del resultado es aquel que guarde la mayor cantidad de informacion.\n",
      "    \n",
      "    std::cout<<\"sum2(3, 5.5): \"<< z <<std::endl;\n",
      "    std::cout<<\"sum2(3, 10): \"<< suma2(3, 10) <<std::endl;\n",
      "\n",
      "}"
     ],
     "language": "python",
     "metadata": {},
     "outputs": [
      {
       "metadata": {},
       "output_type": "pyout",
       "prompt_number": 25,
       "text": [
        "['Hello world!']"
       ]
      }
     ],
     "prompt_number": 25
    },
    {
     "cell_type": "markdown",
     "metadata": {},
     "source": [
      "#### Vectores, Listas y Mapas"
     ]
    },
    {
     "cell_type": "markdown",
     "metadata": {},
     "source": [
      "### Python \n",
      "\n",
      "Documentaci\u00f3n, manuales:\n",
      "\n",
      "* Libro [Python para todos](http://www.ceibal.edu.uy/contenidos/areas_conocimiento/aportes/python_para_todos.pdf), python 2.7 [pdf]\n",
      "* [Dive Into Python 3](http://www.diveintopython3.net/) (html)\n",
      "* Libro [Byte of python](http://files.swaroopch.com/python/byte_of_python.pdf) (pdf)\n",
      "* Curso gratuito en Udemy: [Python for beginners](https://www.udemy.com/pythonforbeginnersintro/)\n",
      "* Curso en CodeAcademy: [Sintaxis de Python](http://www.codecademy.com/es/courses/python-beginner-es-NWE2u/0/1) (En espa\u00f1ol)\n",
      "* Curso en CodeAcademy: [Advanced Topics in Python](http://www.codecademy.com/es/courses/python-beginner-en-KAgt5/0/1)\n",
      "\n",
      "Ejercicios:\n",
      "\n",
      "* Obtener esetad\u00edsticas de una secuencia de ADN disponibles en el ftp local (ftp://192.168.127.2/Estr_Lenguaje/)\n",
      "  * Cantidad de cada uno de los nucleotidos (A,C,T,G)\n",
      "  * Longitud de la secuencia sin tener en cuenta los nucle\u00f3tidos no definidos (N)\n",
      "* Buscar la cadena \"TGAGCTCTGC\" y mostrar la linea del archivo en la cual se encontr\u00f3\n"
     ]
    },
    {
     "cell_type": "markdown",
     "metadata": {},
     "source": [
      "---\n",
      "### Prolog (Programaci\u00f3n L\u00f3gica)\n",
      "\n",
      "Completar la siguiente base de conocimiento con *t\u00e9rminos* que usted desee, y a partir de ella generar las consultas necesarias para responder las preguntas al final:"
     ]
    },
    {
     "cell_type": "code",
     "collapsed": false,
     "input": [
      "%%prolog \n",
      "\n",
      "humano(_).\n",
      "humano(_).\n",
      "humano(_).\n",
      "humano(_).\n",
      "humano(_).\n",
      "humano(_).\n",
      "\n",
      "masculino(_).\n",
      "masculino(_).\n",
      "masculino(_).\n",
      "femenino(_).\n",
      "femenino(_).\n",
      "femenino(_).\n",
      "\n",
      "esPadre(_, _).\n",
      "esPadre(_, _).\n",
      "esPadre(_, _).\n",
      "\n",
      "padre(_,_) :- esPadre(_,_),masculino(_).\n",
      "madre(_,_) :- esPadre(_,_),femenino(_).\n",
      "\n",
      "%esta regla tiene inconvenientes, que pasa si se quiere consultar los bisabuelos\n",
      "abuelo(_, _) :- padre(_, _), padre(_, _).\n",
      "\n",
      "% se soluciona con reglas recursivas\n",
      "ancestro(_, _) :- padre(_, _).  %esta es la condicion de parada\n",
      "ancestro(_, _) :- padre(_, _), ancestro(_, _)."
     ],
     "language": "python",
     "metadata": {},
     "outputs": []
    },
    {
     "cell_type": "markdown",
     "metadata": {},
     "source": [
      "**Consultas:**\n",
      "\n",
      "* Listar s\u00f3lo los padres de la Base de conocimiento\n",
      "* Listar los padres y respectivos hijos de la Base de conocimiento\n",
      "* Imprimir qui\u00e9n esPadre de qui\u00e9n sin importar si es padre o madre\n",
      "* Listar las madres y respectivos hijos de la Base de conocimiento\n",
      "* Realizar la misma consulta usando la regla \"abuelo\" y \"ancestro\" y compararlas\n",
      "* Realizar una consulta para bisabuelo usando la regla recursiva\n",
      "* Imprima todos los ancestros de un termino dado (por ejemplo de Daniel)\n",
      "* Imprima todas las personas para quien un termino dado (por ejemplo Juan) sea un ancestro\n"
     ]
    },
    {
     "cell_type": "markdown",
     "metadata": {},
     "source": [
      "---\n",
      "\n",
      "### Scheme (Programaci\u00f3n Funcional)\n"
     ]
    },
    {
     "cell_type": "code",
     "collapsed": false,
     "input": [],
     "language": "python",
     "metadata": {},
     "outputs": []
    }
   ],
   "metadata": {}
  }
 ]
}