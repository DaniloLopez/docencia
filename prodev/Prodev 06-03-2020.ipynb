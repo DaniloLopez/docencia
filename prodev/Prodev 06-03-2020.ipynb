{
 "cells": [
  {
   "cell_type": "markdown",
   "metadata": {},
   "source": [
    "# Programación Orientada a Objetos con Python\n",
    "\n",
    "Programación Orientada a Objetos (OOP) es un paradigma de programación basado en el concepto de “**objeto**” que contiene datos, en forma de campos (conocidos como atributos o propiedades), y acciones, en forma de procedimientos o funciones (conocidos como métodos)\n",
    "\n",
    "## Clases y objetos\n",
    "\n",
    "* **Objeto**: es una estructura de datos almacenada en memoria que puede ser referenciada por un identificador.\n",
    "Es una particular de una clase\n",
    "\n",
    "* **Clase**: es una plantilla para crear objetos (fábrica de objetos), provee datos y acciones iniciales."
   ]
  },
  {
   "cell_type": "code",
   "execution_count": 56,
   "metadata": {},
   "outputs": [
    {
     "name": "stdout",
     "output_type": "stream",
     "text": [
      "edwin.caldon@codescrum.com\n"
     ]
    }
   ],
   "source": [
    "class Customer:\n",
    "    # Inicialiazador != constructor\n",
    "    def __init__(self, email, name):\n",
    "        self.email = email\n",
    "        self.name = name\n",
    "\n",
    "# Objeto = Instancia de clase\n",
    "edwin = Customer(\"edwin.caldon@codescrum.com\", \"Edwin Caldon\")\n",
    "print(edwin.email)"
   ]
  },
  {
   "cell_type": "code",
   "execution_count": 13,
   "metadata": {},
   "outputs": [
    {
     "name": "stdout",
     "output_type": "stream",
     "text": [
      "Constructor\n",
      "Inicializador\n"
     ]
    }
   ],
   "source": [
    "class Customer():\n",
    "    # Constructor (usualamente no se sobrescribe)\n",
    "    def __new__(cls, *args, **kwargs):\n",
    "        print(\"Constructor\")\n",
    "        return object.__new__(cls)\n",
    "    \n",
    "    # Inicializador != constructor\n",
    "    def __init__(self, email, name):\n",
    "        print(\"Inicializador\")\n",
    "        self.email = email\n",
    "        self.name = name\n",
    "\n",
    "# Objeto = Instancia de clase\n",
    "edwin = Customer(\"edwin.caldon@codescrum.com\", \"Edwin Caldon\")"
   ]
  },
  {
   "cell_type": "markdown",
   "metadata": {},
   "source": [
    "## Métodos de instancia y de clase\n",
    "\n",
    "* **Métodos de instancia**:\n",
    "    * Generalmente el método tiene como primer parámetro la palabra reservada self\n",
    "    * Pueden acceder a los atributos y modificar sus estados\n",
    "\n",
    "* **Métodos de clase**:\n",
    "    * Usa el decorador **@classmethod**\n",
    "    * Recibe como parámetro la palabra reservada cls \n",
    "    * Puede modificar el estado de la clase => variables de clase\n",
    "    * No puede modificar el estado del objeto (no puede acceder a los atributos)"
   ]
  },
  {
   "cell_type": "code",
   "execution_count": 79,
   "metadata": {},
   "outputs": [],
   "source": [
    "class Customer:\n",
    "    # método de instancia\n",
    "    def __init__(self, email, name):\n",
    "        self.email = email\n",
    "        self.name = name\n",
    "        \n",
    "    @classmethod\n",
    "    def factory(cls):\n",
    "#         print(f\"Puede acceder al email?: {email}\")\n",
    "#         print(f\"Puede acceder al email?: NO\")\n",
    "        return cls(\"santiago.hyun@codescrum.com\", \"Santiago Hyun\")"
   ]
  },
  {
   "cell_type": "code",
   "execution_count": 80,
   "metadata": {},
   "outputs": [
    {
     "name": "stdout",
     "output_type": "stream",
     "text": [
      "santiago.hyun@codescrum.com\n"
     ]
    }
   ],
   "source": [
    "c1 = Customer.factory()\n",
    "print(c1.email)"
   ]
  },
  {
   "cell_type": "markdown",
   "metadata": {},
   "source": [
    "### Métodos estáticos\n",
    "\n",
    "* Usa el decorador **@staticmethod**\n",
    "* No recibe ni self ni a cls como primer parámetro\n",
    "* No puede modificar el estado del objeto ni el estado de la clase\n",
    "* Se pueden usar como funciones auxiliares"
   ]
  },
  {
   "cell_type": "code",
   "execution_count": 81,
   "metadata": {},
   "outputs": [
    {
     "name": "stdout",
     "output_type": "stream",
     "text": [
      "juan.urrea@codescrum.com\n"
     ]
    }
   ],
   "source": [
    "class Customer:\n",
    "    def __init__(self, email, name):\n",
    "        self.email = email\n",
    "        self.name = name\n",
    "        \n",
    "    @staticmethod\n",
    "    def generate_email(user_name):\n",
    "        return user_name + \"@codescrum.com\"\n",
    "\n",
    "juan_email = Customer.generate_email(\"juan.urrea\")\n",
    "print(juan_email)"
   ]
  },
  {
   "cell_type": "markdown",
   "metadata": {},
   "source": [
    "## Variables de instancia (Atributos)\n",
    "\n",
    "* Característica del objeto\n",
    "* Generalmente son variables que inician con la palabra reservada **self** y están definidas en el método **__init__()**."
   ]
  },
  {
   "cell_type": "code",
   "execution_count": 87,
   "metadata": {},
   "outputs": [
    {
     "name": "stdout",
     "output_type": "stream",
     "text": [
      "juan@codescrum.com\n",
      "juan.urrea@codescrum\n",
      "<__main__.Customer object at 0x7fb98c3a0390>\n"
     ]
    }
   ],
   "source": [
    "class Customer:\n",
    "    def __init__(self, email, name):\n",
    "        self.email = email\n",
    "        self.name = name\n",
    "\n",
    "juan = Customer(\"juan@codescrum.com\", \"Juan Urrea\")\n",
    "print(juan.email)\n",
    "juan.email = \"juan.urrea@codescrum\"\n",
    "print(juan.email)\n",
    "print(juan)"
   ]
  },
  {
   "cell_type": "markdown",
   "metadata": {},
   "source": [
    "### Variables de clase\n",
    "\n",
    "* Estas variables tienen los mismos valores para todas las instancias."
   ]
  },
  {
   "cell_type": "code",
   "execution_count": 92,
   "metadata": {},
   "outputs": [
    {
     "name": "stdout",
     "output_type": "stream",
     "text": [
      "Codescrum\n",
      "Codescrum\n"
     ]
    }
   ],
   "source": [
    "class Customer:\n",
    "    \n",
    "    company = \"Codescrum\"\n",
    "    \n",
    "    def __init__(self, email, name):\n",
    "        self.email = email\n",
    "        self.name = name\n",
    "\n",
    "juan = Customer(\"juan@codescrum.com\", \"Juan Urrea\")\n",
    "print(juan.company)\n",
    "\n",
    "hyun = Customer(\"hyun@codescrum.com\", \"Hyun\")\n",
    "print(hyun.company)"
   ]
  },
  {
   "cell_type": "markdown",
   "metadata": {},
   "source": [
    "## Herencia de clases\n",
    "\n",
    "* La herencia es la característica de la POO en la cual una clase toma los atributos y métodos de otra. \n",
    "\n",
    "* La nueva clase se denominan “hijas” y aquellas de la cual derivan de denominan “padres”\n",
    "\n",
    "* Es importante notar que las clases “hijas” pueden **sobrescribir o extender funcionalidades** (atributos o acciones) de sus “padres”"
   ]
  },
  {
   "cell_type": "code",
   "execution_count": 98,
   "metadata": {},
   "outputs": [
    {
     "name": "stdout",
     "output_type": "stream",
     "text": [
      "edwin.caldon@codescrum.com\n",
      "edwin.caldon\n"
     ]
    }
   ],
   "source": [
    "class User:\n",
    "    def __init__(self, email, username):\n",
    "        self.email = email\n",
    "        self.username = username\n",
    "        \n",
    "class Customer(User):\n",
    "    pass\n",
    "\n",
    "edwin = Customer(\"edwin.caldon@codescrum.com\",\"edwin.caldon\")\n",
    "print(edwin.email)\n",
    "print(edwin.username)"
   ]
  },
  {
   "cell_type": "code",
   "execution_count": 107,
   "metadata": {},
   "outputs": [
    {
     "name": "stdout",
     "output_type": "stream",
     "text": [
      "edwin.caldon@codescrum.com\n",
      "prodev**\n"
     ]
    }
   ],
   "source": [
    "class User:\n",
    "    def __init__(self, email, username):\n",
    "        self.email = email\n",
    "        self.username = username\n",
    "        \n",
    "class Customer(User):\n",
    "    # nueva acción\n",
    "    def set_password(self, password):\n",
    "        self.passwd = password\n",
    "\n",
    "edwin = Customer(\"edwin.caldon@codescrum.com\",\"edwin.caldon\")\n",
    "edwin.set_password(\"prodev**\")\n",
    "print(edwin.email)\n",
    "print(edwin.passwd)"
   ]
  },
  {
   "cell_type": "code",
   "execution_count": 106,
   "metadata": {},
   "outputs": [
    {
     "name": "stdout",
     "output_type": "stream",
     "text": [
      "Edwin Caldon tiene email: edwin.caldon@codescrum.com con usuario: edwin.caldon y contraseña: prodev**\n"
     ]
    }
   ],
   "source": [
    "class User:\n",
    "    def __init__(self, email, username):\n",
    "        self.email = email\n",
    "        self.username = username\n",
    "        \n",
    "class Customer(User):\n",
    "    def __init__(self, email, username, name):\n",
    "        self.name = name # nuevo atributo\n",
    "        super().__init__(email, username)\n",
    "        \n",
    "    def set_password(self, password):\n",
    "        self.passwd = password\n",
    "\n",
    "edwin = Customer(\"edwin.caldon@codescrum.com\",\"edwin.caldon\", \"Edwin Caldon\")\n",
    "edwin.set_password(\"prodev**\")\n",
    "print(f\"{edwin.name} tiene email: {edwin.email} con usuario: {edwin.username} y contraseña: {edwin.passwd}\")"
   ]
  },
  {
   "cell_type": "markdown",
   "metadata": {},
   "source": [
    "### Polimorfismo\n",
    "\n",
    "* Es la característica de la POO de usar una interface común para múltiples esctructuras (objetos)"
   ]
  },
  {
   "cell_type": "code",
   "execution_count": 131,
   "metadata": {},
   "outputs": [
    {
     "name": "stdout",
     "output_type": "stream",
     "text": [
      "Ingrese correo y usuario: caldon@gmail.com caldon\n",
      "Ingrese correo y usuario: juan@codescrum.com juan\n"
     ]
    }
   ],
   "source": [
    "class User:\n",
    "    def __init__(self, email, username):\n",
    "        self.email = email\n",
    "        self.username = username\n",
    "    def login(self): # método común\n",
    "        print(f\"Ingrese correo y usuario: {self.email} {self.username}\")\n",
    "        \n",
    "class Customer(User):\n",
    "    pass\n",
    "\n",
    "class Employee(User):\n",
    "    pass\n",
    "\n",
    "# interface común\n",
    "def login(user):\n",
    "    user.login()\n",
    "    \n",
    "client1 = Customer(\"caldon@gmail.com\", \"caldon\")\n",
    "employee1 = Employee(\"juan@codescrum.com\",\"juan\")\n",
    "\n",
    "login(client1)\n",
    "login(employee1)"
   ]
  },
  {
   "cell_type": "markdown",
   "metadata": {},
   "source": [
    "### Encapsulación\n",
    "\n",
    "* Usando POO con Python podemos restringir el acceso a métodos y variables.\n",
    "* Para que un método o variable sea **privado** debe empezar con doble guión bajo: \\_\\_\n",
    "* Para que un método o variable sea **protejido** debe empezar con un guión bajo: \\_"
   ]
  },
  {
   "cell_type": "code",
   "execution_count": 123,
   "metadata": {},
   "outputs": [
    {
     "name": "stdout",
     "output_type": "stream",
     "text": [
      "hyun@gmail.com\n"
     ]
    }
   ],
   "source": [
    "class User:\n",
    "    def __init__(self, email, username, passwd):\n",
    "        self.email = email\n",
    "        self.username = username\n",
    "        self.__passwd = passwd\n",
    "    \n",
    "#     def get_passwd(self):\n",
    "#         return self.__passwd\n",
    "\n",
    "hyun = User(\"hyun@gmail.com\", \"hyun\", \"h****\")\n",
    "print(hyun.email)\n",
    "# print(hyun.__passwd)\n",
    "# print(hyun.get_passwd())"
   ]
  },
  {
   "cell_type": "code",
   "execution_count": 130,
   "metadata": {},
   "outputs": [
    {
     "name": "stdout",
     "output_type": "stream",
     "text": [
      "hyun@gmail.com\n",
      "Hyun Lee\n"
     ]
    }
   ],
   "source": [
    "class User:\n",
    "    def __init__(self, email, username, passwd, name):\n",
    "        self.email = email\n",
    "        self.username = username\n",
    "        self.__passwd = passwd # Privado\n",
    "        self._name = name # Protejido\n",
    "    \n",
    "#     def get_passwd(self):\n",
    "#         return self.__passwd\n",
    "\n",
    "class Customer(User):\n",
    "    def test(self):\n",
    "        print(self._name)\n",
    "#         print(self.__passwd\n",
    "\n",
    "hyun = Customer(\"hyun@gmail.com\", \"hyun\", \"h****\", \"Hyun Lee\")\n",
    "print(hyun.email)\n",
    "hyun.test()"
   ]
  },
  {
   "cell_type": "markdown",
   "metadata": {},
   "source": [
    "## Composición entre clases\n",
    "\n",
    "* Es la forma de colaboración entre objetos\n",
    "* Se establece una relación entre clases a través de variables de instancia que hacen referencia a otros objetos."
   ]
  },
  {
   "cell_type": "code",
   "execution_count": 144,
   "metadata": {},
   "outputs": [
    {
     "name": "stdout",
     "output_type": "stream",
     "text": [
      "juan@codescrum.com\n"
     ]
    }
   ],
   "source": [
    "class Company:\n",
    "    def __init__(self, name, nit):\n",
    "        self.name = name\n",
    "        self.nit = nit\n",
    "        self.employee = Employee(\"juan@codescrum.com\", \"juan\")\n",
    "\n",
    "codescrum = Company(\"Codescrum\", \"1234\")\n",
    "print(codescrum.employee.email)"
   ]
  },
  {
   "cell_type": "code",
   "execution_count": 180,
   "metadata": {},
   "outputs": [
    {
     "name": "stdout",
     "output_type": "stream",
     "text": [
      "Empleados de CODESCRUM\n",
      "Correo: juan@codescrum.com, Usuario: juan\n",
      "Correo: hyun@codescrum.com, Usuario: hyun\n",
      "Correo: jorge@codescrum.com, Usuario: jorge\n"
     ]
    }
   ],
   "source": [
    "class Company:\n",
    "    def __init__(self, name, nit):\n",
    "        self.name = name\n",
    "        self.nit = nit\n",
    "        self.employees = []\n",
    "    \n",
    "    def add_employee(self, employee):\n",
    "        self.employees.append(employee)\n",
    "        \n",
    "    def get_employees(self):\n",
    "        print(f\"Empleados de {self.name.upper()}\")\n",
    "        for employee in self.employees:\n",
    "            print(f\"Correo: {employee.email}, Usuario: {employee.username}\")\n",
    "\n",
    "codescrum = Company(\"Codescrum\", \"1234H\")\n",
    "\n",
    "employee1 = Employee(\"juan@codescrum.com\", \"juan\")\n",
    "employee2 = Employee(\"hyun@codescrum.com\", \"hyun\")\n",
    "employee3 = Employee(\"jorge@codescrum.com\", \"jorge\")\n",
    "\n",
    "codescrum.add_employee(employee1)\n",
    "codescrum.add_employee(employee2)\n",
    "codescrum.add_employee(employee3)\n",
    "\n",
    "codescrum.get_employees()"
   ]
  },
  {
   "cell_type": "markdown",
   "metadata": {},
   "source": [
    "### Challenge Time\n",
    "\n",
    "* [Video Streaming Plans](https://edabit.com/challenge/5T978H873HFZ7xKd8)\n",
    "* [Count Number of Instances](https://edabit.com/challenge/rprukfcGWqnvKZR9g)\n",
    "* []()"
   ]
  },
  {
   "cell_type": "markdown",
   "metadata": {},
   "source": [
    "## Excepciones y errores\n",
    "\n",
    "* Los errores detectados durante la **ejecución** se llaman excepciones, y no son incondicionalmente fatales"
   ]
  },
  {
   "cell_type": "code",
   "execution_count": 146,
   "metadata": {},
   "outputs": [
    {
     "ename": "TypeError",
     "evalue": "unsupported operand type(s) for +: 'int' and 'str'",
     "output_type": "error",
     "traceback": [
      "\u001b[0;31m---------------------------------------------------------------------------\u001b[0m",
      "\u001b[0;31mTypeError\u001b[0m                                 Traceback (most recent call last)",
      "\u001b[0;32m<ipython-input-146-82150feed70c>\u001b[0m in \u001b[0;36m<module>\u001b[0;34m\u001b[0m\n\u001b[0;32m----> 1\u001b[0;31m \u001b[0;36m2\u001b[0m \u001b[0;34m+\u001b[0m \u001b[0;34m'2'\u001b[0m\u001b[0;34m\u001b[0m\u001b[0;34m\u001b[0m\u001b[0m\n\u001b[0m",
      "\u001b[0;31mTypeError\u001b[0m: unsupported operand type(s) for +: 'int' and 'str'"
     ]
    }
   ],
   "source": [
    "2 + '2'"
   ]
  },
  {
   "cell_type": "code",
   "execution_count": 159,
   "metadata": {},
   "outputs": [
    {
     "name": "stdout",
     "output_type": "stream",
     "text": [
      "No es posible la operación: unsupported operand type(s) for +: 'int' and 'str'\n"
     ]
    }
   ],
   "source": [
    "try:\n",
    "    2 + '2'\n",
    "except TypeError as e:\n",
    "    print(f\"No es posible la operación: {e}\")"
   ]
  },
  {
   "cell_type": "code",
   "execution_count": 176,
   "metadata": {},
   "outputs": [
    {
     "name": "stdout",
     "output_type": "stream",
     "text": [
      "No es posible la operación: unsupported operand type(s) for +: 'int' and 'str'\n",
      "FINALLY: Siempre se ejecuta. Sirve para ejecutar acciones de limpieza.\n"
     ]
    }
   ],
   "source": [
    "try:\n",
    "    2 + '2'\n",
    "except TypeError as e:\n",
    "    print(f\"No es posible la operación: {e}\")\n",
    "finally:\n",
    "    print(\"FINALLY: Siempre se ejecuta. Sirve para ejecutar acciones de limpieza.\")"
   ]
  },
  {
   "cell_type": "markdown",
   "metadata": {},
   "source": [
    "## Introspección\n",
    "\n",
    "* Funciones predefinidas que permiten obtener más información de todos los objetos Python"
   ]
  },
  {
   "cell_type": "code",
   "execution_count": 163,
   "metadata": {},
   "outputs": [
    {
     "data": {
      "text/plain": [
       "['ArithmeticError',\n",
       " 'AssertionError',\n",
       " 'AttributeError',\n",
       " 'BaseException',\n",
       " 'BlockingIOError',\n",
       " 'BrokenPipeError',\n",
       " 'BufferError',\n",
       " 'BytesWarning',\n",
       " 'ChildProcessError',\n",
       " 'ConnectionAbortedError',\n",
       " 'ConnectionError',\n",
       " 'ConnectionRefusedError',\n",
       " 'ConnectionResetError',\n",
       " 'DeprecationWarning',\n",
       " 'EOFError',\n",
       " 'Ellipsis',\n",
       " 'EnvironmentError',\n",
       " 'Exception',\n",
       " 'False',\n",
       " 'FileExistsError',\n",
       " 'FileNotFoundError',\n",
       " 'FloatingPointError',\n",
       " 'FutureWarning',\n",
       " 'GeneratorExit',\n",
       " 'IOError',\n",
       " 'ImportError',\n",
       " 'ImportWarning',\n",
       " 'IndentationError',\n",
       " 'IndexError',\n",
       " 'InterruptedError',\n",
       " 'IsADirectoryError',\n",
       " 'KeyError',\n",
       " 'KeyboardInterrupt',\n",
       " 'LookupError',\n",
       " 'MemoryError',\n",
       " 'ModuleNotFoundError',\n",
       " 'NameError',\n",
       " 'None',\n",
       " 'NotADirectoryError',\n",
       " 'NotImplemented',\n",
       " 'NotImplementedError',\n",
       " 'OSError',\n",
       " 'OverflowError',\n",
       " 'PendingDeprecationWarning',\n",
       " 'PermissionError',\n",
       " 'ProcessLookupError',\n",
       " 'RecursionError',\n",
       " 'ReferenceError',\n",
       " 'ResourceWarning',\n",
       " 'RuntimeError',\n",
       " 'RuntimeWarning',\n",
       " 'StopAsyncIteration',\n",
       " 'StopIteration',\n",
       " 'SyntaxError',\n",
       " 'SyntaxWarning',\n",
       " 'SystemError',\n",
       " 'SystemExit',\n",
       " 'TabError',\n",
       " 'TimeoutError',\n",
       " 'True',\n",
       " 'TypeError',\n",
       " 'UnboundLocalError',\n",
       " 'UnicodeDecodeError',\n",
       " 'UnicodeEncodeError',\n",
       " 'UnicodeError',\n",
       " 'UnicodeTranslateError',\n",
       " 'UnicodeWarning',\n",
       " 'UserWarning',\n",
       " 'ValueError',\n",
       " 'Warning',\n",
       " 'ZeroDivisionError',\n",
       " '__IPYTHON__',\n",
       " '__build_class__',\n",
       " '__debug__',\n",
       " '__doc__',\n",
       " '__import__',\n",
       " '__loader__',\n",
       " '__name__',\n",
       " '__package__',\n",
       " '__spec__',\n",
       " 'abs',\n",
       " 'all',\n",
       " 'any',\n",
       " 'ascii',\n",
       " 'bin',\n",
       " 'bool',\n",
       " 'breakpoint',\n",
       " 'bytearray',\n",
       " 'bytes',\n",
       " 'callable',\n",
       " 'chr',\n",
       " 'classmethod',\n",
       " 'compile',\n",
       " 'complex',\n",
       " 'copyright',\n",
       " 'credits',\n",
       " 'delattr',\n",
       " 'dict',\n",
       " 'dir',\n",
       " 'display',\n",
       " 'divmod',\n",
       " 'enumerate',\n",
       " 'eval',\n",
       " 'exec',\n",
       " 'filter',\n",
       " 'float',\n",
       " 'format',\n",
       " 'frozenset',\n",
       " 'get_ipython',\n",
       " 'getattr',\n",
       " 'globals',\n",
       " 'hasattr',\n",
       " 'hash',\n",
       " 'help',\n",
       " 'hex',\n",
       " 'id',\n",
       " 'input',\n",
       " 'int',\n",
       " 'isinstance',\n",
       " 'issubclass',\n",
       " 'iter',\n",
       " 'len',\n",
       " 'license',\n",
       " 'list',\n",
       " 'locals',\n",
       " 'map',\n",
       " 'max',\n",
       " 'memoryview',\n",
       " 'min',\n",
       " 'next',\n",
       " 'object',\n",
       " 'oct',\n",
       " 'open',\n",
       " 'ord',\n",
       " 'pow',\n",
       " 'print',\n",
       " 'property',\n",
       " 'range',\n",
       " 'repr',\n",
       " 'reversed',\n",
       " 'round',\n",
       " 'set',\n",
       " 'setattr',\n",
       " 'slice',\n",
       " 'sorted',\n",
       " 'staticmethod',\n",
       " 'str',\n",
       " 'sum',\n",
       " 'super',\n",
       " 'tuple',\n",
       " 'type',\n",
       " 'vars',\n",
       " 'zip']"
      ]
     },
     "execution_count": 163,
     "metadata": {},
     "output_type": "execute_result"
    }
   ],
   "source": [
    "dir(__builtins__)"
   ]
  },
  {
   "cell_type": "code",
   "execution_count": 164,
   "metadata": {},
   "outputs": [
    {
     "data": {
      "text/plain": [
       "94349184239952"
      ]
     },
     "execution_count": 164,
     "metadata": {},
     "output_type": "execute_result"
    }
   ],
   "source": [
    "id(Employee)"
   ]
  },
  {
   "cell_type": "markdown",
   "metadata": {},
   "source": [
    "## File I/O\n"
   ]
  },
  {
   "cell_type": "code",
   "execution_count": 179,
   "metadata": {},
   "outputs": [
    {
     "name": "stdout",
     "output_type": "stream",
     "text": [
      "Nombre del archivo: archivo.csv\n",
      "Archivo abierto?: False\n",
      "Archivo abierto en modo: r\n"
     ]
    }
   ],
   "source": [
    "f = open('archivo.csv', 'r')\n",
    "\n",
    "print(f\"Nombre del archivo: {f.name}\")\n",
    "print(f\"Archivo abierto?: {f.closed}\")\n",
    "print(f\"Archivo abierto en modo: {f.mode}\")\n",
    "\n",
    "f.close() # Siempre cerrar el archivo"
   ]
  },
  {
   "cell_type": "markdown",
   "metadata": {},
   "source": [
    "## Sentencia with\n",
    "\n",
    "* El anterior archivo puede quedar abierto si se olvida ejecutar **close()**. Esto no es un problema en scripts simples, pero puede ser un problema en aplicaciones más grandes. La declaración **with** permite que objetos como archivos sean usados de una forma que asegure que siempre se los libera rápido y en forma correcta."
   ]
  },
  {
   "cell_type": "code",
   "execution_count": 178,
   "metadata": {},
   "outputs": [
    {
     "name": "stdout",
     "output_type": "stream",
     "text": [
      "['id', 'build_type', 'description', 'display_name', 'file_name', 'last_updated', 'name', 'sha256', 'version']\n",
      "['1', 'release', 'CxSAST Enterprise Edition Version 8.0.0', 'SAST - Static Application Security Testing', 'sast_release_8_0_0.zip', '20/01/2020', 'sast', '78E9D04413DAF97F639819120BD4E7095C7069FB68C9926BCE4B5FBBC8D28361', '8.0.0']\n"
     ]
    }
   ],
   "source": [
    "with open(\"archivo.csv\", \"r\") as f:\n",
    "    for linea in f:\n",
    "        print(linea.strip().split(','))"
   ]
  },
  {
   "cell_type": "markdown",
   "metadata": {},
   "source": [
    "## Referencias\n",
    "\n",
    "* Python's Instance, Class, and Static Methods Demystified: https://realpython.com/instance-class-and-static-methods-demystified/\n",
    "* Abstract Base Classes in Python: https://realpython.com/inheritance-composition-python/#abstract-base-classes-in-python\n"
   ]
  }
 ],
 "metadata": {
  "kernelspec": {
   "display_name": "Python 3",
   "language": "python",
   "name": "python3"
  },
  "language_info": {
   "codemirror_mode": {
    "name": "ipython",
    "version": 3
   },
   "file_extension": ".py",
   "mimetype": "text/x-python",
   "name": "python",
   "nbconvert_exporter": "python",
   "pygments_lexer": "ipython3",
   "version": "3.7.6"
  }
 },
 "nbformat": 4,
 "nbformat_minor": 4
}
