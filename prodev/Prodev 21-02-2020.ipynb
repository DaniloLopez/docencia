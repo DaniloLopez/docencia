{
 "cells": [
  {
   "cell_type": "markdown",
   "metadata": {},
   "source": [
    "# Fundamentos de Python"
   ]
  },
  {
   "cell_type": "markdown",
   "metadata": {},
   "source": [
    "## Qué es Python?\n",
    "\n",
    "> Python es un lenguaje **Orientado a Objetos**, **dinámicamente tipado**, **interpretado** y de **propósito general**\n",
    "\n",
    "* Creado en 1980 por Guido Van Rossum\n",
    "* Sigue el standard CPython (Implementación original de Python)\n",
    "* Jython es otra implementación en Java\n",
    "    * IronPython => C#\n",
    "    * PyPy => RPython, más rápida que CPython\n",
    "* Lo mantiene la Python Software Foundation (PSF)\n",
    "* Eventos:\n",
    "    * Pycon Colombia => https://www.pycon.co/\n",
    "    * Python Popayán =>  http://pythonpopayan.org\n",
    "\n",
    "* Indentación:\n",
    "\n",
    "> Para delimitar los bloques de código, Python usa identación con espacios en blanco. Las guías de cómo codificar en Python se conocen como PEPs (Python Enhancement Proposals / Propuestas de Mejora de Python): https://www.python.org/dev/peps/ \n",
    "> * PEP8 => Style Guide for Python Code\n",
    "> * Vscode => Linting Python plugins\n"
   ]
  },
  {
   "cell_type": "markdown",
   "metadata": {},
   "source": [
    "## Instalación y configuración\n",
    "\n",
    "* Python versión 3, la versión 2 deja de tener soporte este año.\n",
    "* En Linux está instalado por defecto\n",
    "* Para Windows: https://www.python.org/downloads/windows/\n",
    "    * Versión estable 3.8.X\n",
    "* Configuración de ambientes virtuales:\n",
    "    * \\$ python --version \\# verificamos la versión de python\n",
    "    * \\$ python3 -m pip --version \\# verificamos la versión de pip\n",
    "    * \\$ python3 -m pip install --user virtualenv\n",
    "    * \\$ python3 -m venv ~/.virtualenvs/prodev\n",
    "    * \\$ source ~/.virtualenvs/prodev/bin/activate\n",
    "    * (prodev)  \\$ pip install requests # ejemplo\n",
    "    * (prodev)  \\$ deactivate\n",
    "* Un ambiente virtual de Python es un entorno de ejecución independiente de la instalación base lo que permite tener múltiples versiones de un mismo paquete sin causar conflictos\n"
   ]
  },
  {
   "cell_type": "markdown",
   "metadata": {},
   "source": [
    "## Tipos de datos\n",
    "\n",
    "* Interprete de Python:\n",
    "* \\$ python   # opcional indicar la versión, ejemplo: python3.7\n",
    "* \\>>> \n",
    "\n",
    "### Primitivos:"
   ]
  },
  {
   "cell_type": "code",
   "execution_count": 7,
   "metadata": {},
   "outputs": [
    {
     "data": {
      "text/plain": [
       "1"
      ]
     },
     "execution_count": 7,
     "metadata": {},
     "output_type": "execute_result"
    }
   ],
   "source": [
    "int('1')"
   ]
  },
  {
   "cell_type": "code",
   "execution_count": 8,
   "metadata": {},
   "outputs": [
    {
     "data": {
      "text/plain": [
       "2.0"
      ]
     },
     "execution_count": 8,
     "metadata": {},
     "output_type": "execute_result"
    }
   ],
   "source": [
    "float(2)"
   ]
  },
  {
   "cell_type": "code",
   "execution_count": 11,
   "metadata": {},
   "outputs": [
    {
     "data": {
      "text/plain": [
       "False"
      ]
     },
     "execution_count": 11,
     "metadata": {},
     "output_type": "execute_result"
    }
   ],
   "source": [
    "bool(0)"
   ]
  },
  {
   "cell_type": "code",
   "execution_count": 18,
   "metadata": {},
   "outputs": [
    {
     "data": {
      "text/plain": [
       "(6+4j)"
      ]
     },
     "execution_count": 18,
     "metadata": {},
     "output_type": "execute_result"
    }
   ],
   "source": [
    "complex(2, 3) + complex(4, 1)"
   ]
  },
  {
   "cell_type": "markdown",
   "metadata": {},
   "source": [
    "### Compuestos"
   ]
  },
  {
   "cell_type": "code",
   "execution_count": 101,
   "metadata": {},
   "outputs": [],
   "source": [
    "lista = list((6,3,8,2,7))\n",
    "# lista = []\n",
    "# lista = [7,5,4,3]\n",
    "type(lista)\n",
    "# help(lista)\n",
    "# dir(lista)\n",
    "# lista[0]\n",
    "# lista[-1]\n",
    "lista.append(21)\n",
    "# lista.pop()\n",
    "lista.remove(3)"
   ]
  },
  {
   "cell_type": "code",
   "execution_count": 43,
   "metadata": {},
   "outputs": [
    {
     "data": {
      "text/plain": [
       "[6, 8, 2, 7, 21]"
      ]
     },
     "execution_count": 43,
     "metadata": {},
     "output_type": "execute_result"
    }
   ],
   "source": [
    "lista"
   ]
  },
  {
   "cell_type": "code",
   "execution_count": 53,
   "metadata": {},
   "outputs": [
    {
     "data": {
      "text/plain": [
       "2"
      ]
     },
     "execution_count": 53,
     "metadata": {},
     "output_type": "execute_result"
    }
   ],
   "source": [
    "tupla = tuple((7,3,4,6,7))\n",
    "type(tupla)\n",
    "# dir(tuple)\n",
    "tupla.count(7)\n",
    "# tupla.pop()\n",
    "# tupla.remove(3)"
   ]
  },
  {
   "cell_type": "code",
   "execution_count": 67,
   "metadata": {},
   "outputs": [],
   "source": [
    "diccionario = dict()\n",
    "diccionario = {\"popayan\": 325477, \"bogota\": 7743955, \"medellin\": 2533424, \"cali\": 2252616}\n",
    "type(diccionario)\n",
    "# diccionario['popayan']\n",
    "diccionario.popitem()\n",
    "diccionario.update({\"pasto\": 392589})"
   ]
  },
  {
   "cell_type": "code",
   "execution_count": 69,
   "metadata": {},
   "outputs": [
    {
     "data": {
      "text/plain": [
       "{'popayan': 325477, 'bogota': 7743955, 'medellin': 2533424, 'pasto': 392589}"
      ]
     },
     "execution_count": 69,
     "metadata": {},
     "output_type": "execute_result"
    }
   ],
   "source": [
    "diccionario"
   ]
  },
  {
   "cell_type": "code",
   "execution_count": 91,
   "metadata": {},
   "outputs": [],
   "source": [
    "conjunto = set()\n",
    "conjunto = set(diccionario)\n",
    "type(conjunto)\n",
    "conjunto.add('neiva')\n",
    "# conjunto.add(['pereira', 'monteria'])\n",
    "conjunto.update(['pereira', 'monteria'])\n",
    "# conjunto.update(['popayan'])"
   ]
  },
  {
   "cell_type": "code",
   "execution_count": 93,
   "metadata": {},
   "outputs": [
    {
     "data": {
      "text/plain": [
       "{'bogota', 'medellin', 'monteria', 'neiva', 'pasto', 'pereira', 'popayan'}"
      ]
     },
     "execution_count": 93,
     "metadata": {},
     "output_type": "execute_result"
    }
   ],
   "source": [
    "conjunto"
   ]
  },
  {
   "cell_type": "markdown",
   "metadata": {},
   "source": [
    "### operaciones entre conjuntos\n",
    "Ver operaciones completas en https://snakify.org/en/lessons/sets/"
   ]
  },
  {
   "cell_type": "code",
   "execution_count": 97,
   "metadata": {},
   "outputs": [],
   "source": [
    "A = {1, 2, 3}\n",
    "B = {1, 3, 5}"
   ]
  },
  {
   "cell_type": "code",
   "execution_count": 131,
   "metadata": {},
   "outputs": [
    {
     "data": {
      "text/plain": [
       "{1, 2, 3, 5}"
      ]
     },
     "execution_count": 131,
     "metadata": {},
     "output_type": "execute_result"
    }
   ],
   "source": [
    "A | B # Union"
   ]
  },
  {
   "cell_type": "code",
   "execution_count": 132,
   "metadata": {},
   "outputs": [
    {
     "data": {
      "text/plain": [
       "{1, 3}"
      ]
     },
     "execution_count": 132,
     "metadata": {},
     "output_type": "execute_result"
    }
   ],
   "source": [
    "A & B # Interseccion"
   ]
  },
  {
   "cell_type": "markdown",
   "metadata": {},
   "source": [
    "## Operadores\n",
    "\n",
    "* Aritméticos: +,  -,  *,  **,  /,  //,  %\n",
    "* Relacionales: ==,  !=,  >,  <=,  >,  >=\n",
    "* Logicos: and,  not,  or\n",
    "* Bitwise (bit a bit): &,  |,  ^ (XOR),  ~,  <<,  >>\n",
    "    * a = 60           # 60 = 0011 1100 \n",
    "    * b = 13            # 13 = 0000 1101 \n",
    "    * a & b = 0000 1100  # 12\n",
    "* Asignación: =,  +=,  -=,  *=,  /=,  %=,  //=\n",
    "* Está o no está: in,  not in\n",
    "* Identidad: is,  not is"
   ]
  },
  {
   "cell_type": "code",
   "execution_count": 104,
   "metadata": {},
   "outputs": [
    {
     "data": {
      "text/plain": [
       "'0b111100'"
      ]
     },
     "execution_count": 104,
     "metadata": {},
     "output_type": "execute_result"
    }
   ],
   "source": [
    "a = 60\n",
    "bin(a)"
   ]
  },
  {
   "cell_type": "markdown",
   "metadata": {},
   "source": [
    "## Control de frujo\n",
    "### Sentencia if"
   ]
  },
  {
   "cell_type": "code",
   "execution_count": 115,
   "metadata": {},
   "outputs": [
    {
     "name": "stdout",
     "output_type": "stream",
     "text": [
      "Negativo, cambia a cero\n"
     ]
    }
   ],
   "source": [
    "x = -1\n",
    "if x < 0:\n",
    "    x = 0\n",
    "    print('Negativo, cambia a cero')\n",
    "elif x == 0:\n",
    "    print('Cero')\n",
    "elif x == 1:\n",
    "    print('Uno')\n",
    "else:\n",
    "    print('Mas')"
   ]
  },
  {
   "cell_type": "markdown",
   "metadata": {},
   "source": [
    "### Sentencia for"
   ]
  },
  {
   "cell_type": "code",
   "execution_count": 172,
   "metadata": {},
   "outputs": [
    {
     "name": "stdout",
     "output_type": "stream",
     "text": [
      "bogota 6\n",
      "medellin 8\n",
      "monteria 8\n",
      "neiva 5\n",
      "pasto 5\n",
      "pereira 7\n",
      "popayan 7\n"
     ]
    }
   ],
   "source": [
    "ciudades = ['bogota', 'medellin', 'monteria', 'neiva', 'pasto', 'pereira', 'popayan']\n",
    "for ciudad in ciudades:\n",
    "    print(ciudad, len(ciudad))\n",
    "#     print(f'{ciudad} tiene {len(ciudad)} letras.')\n"
   ]
  },
  {
   "cell_type": "code",
   "execution_count": 122,
   "metadata": {},
   "outputs": [
    {
     "name": "stdout",
     "output_type": "stream",
     "text": [
      "1\n",
      "3\n",
      "5\n",
      "7\n",
      "9\n",
      "11\n",
      "13\n"
     ]
    }
   ],
   "source": [
    "# for i in range(5):\n",
    "# for i in range(1,5):\n",
    "for i in range(1, 15, 2):\n",
    "    print(i)\n"
   ]
  },
  {
   "cell_type": "code",
   "execution_count": 133,
   "metadata": {},
   "outputs": [
    {
     "name": "stdout",
     "output_type": "stream",
     "text": [
      "2 es un número primo\n",
      "3 es un número primo\n",
      "4 igual a 2 * 2\n",
      "5 es un número primo\n",
      "6 igual a 2 * 3\n",
      "7 es un número primo\n",
      "8 igual a 2 * 4\n",
      "9 igual a 3 * 3\n"
     ]
    }
   ],
   "source": [
    "for n in range(2, 10):\n",
    "    for x in range(2, n):\n",
    "        if n % x == 0:\n",
    "            print(n, 'igual a', x, '*', n//x)\n",
    "            break\n",
    "    else:\n",
    "       # Sale del ciclo sin encontrar un factor\n",
    "        print(n, 'es un número primo')\n"
   ]
  },
  {
   "cell_type": "code",
   "execution_count": 135,
   "metadata": {},
   "outputs": [
    {
     "name": "stdout",
     "output_type": "stream",
     "text": [
      "Número par 2\n",
      "Solo un número 3\n",
      "Número par 4\n",
      "Solo un número 5\n",
      "Número par 6\n",
      "Solo un número 7\n",
      "Número par 8\n",
      "Solo un número 9\n"
     ]
    }
   ],
   "source": [
    "for num in range(2, 10):\n",
    "    if num % 2 == 0:\n",
    "        print(\"Número par\", num)\n",
    "        continue\n",
    "    print(\"Solo un número\", num)"
   ]
  },
  {
   "cell_type": "markdown",
   "metadata": {},
   "source": [
    "### Sentencia while"
   ]
  },
  {
   "cell_type": "code",
   "execution_count": 139,
   "metadata": {},
   "outputs": [
    {
     "name": "stdout",
     "output_type": "stream",
     "text": [
      "El log2 aproximado es 0\n"
     ]
    }
   ],
   "source": [
    "count = 0\n",
    "while x > 0:\n",
    "    x = x // 2\n",
    "    count += 1\n",
    "print(\"El log2 aproximado es\", count)\n"
   ]
  },
  {
   "cell_type": "markdown",
   "metadata": {},
   "source": [
    "### Primer challlenge!\n",
    "https://edabit.com/challenges\n",
    "\n",
    "Python -> Very Easy -> Loops"
   ]
  },
  {
   "cell_type": "markdown",
   "metadata": {},
   "source": [
    "## Funciones\n",
    "\n",
    "Subrutina o subprograma (también llamada procedimiento, función , rutina o método), como idea general, se presenta como un **subalgoritmo** que forma parte del algoritmo principal, el cual permite resolver una **tarea específica** ([Wikipedia](https://es.wikipedia.org/wiki/Subrutina))"
   ]
  },
  {
   "cell_type": "code",
   "execution_count": 142,
   "metadata": {},
   "outputs": [
    {
     "name": "stdout",
     "output_type": "stream",
     "text": [
      "Bienvenidos!\n"
     ]
    }
   ],
   "source": [
    "def prodev():\n",
    "    print(\"Bienvenidos!\")\n",
    "\n",
    "prodev()  # se hacer el llamado para que se ejecute"
   ]
  },
  {
   "cell_type": "code",
   "execution_count": 154,
   "metadata": {},
   "outputs": [
    {
     "name": "stdout",
     "output_type": "stream",
     "text": [
      "3 4 5\n",
      "3 1 2\n"
     ]
    }
   ],
   "source": [
    "def suma(x, y, z=0):\n",
    "    \"\"\"\n",
    "    Esta documentaciónn se conoce como Docstring.\n",
    "    Es muy util para saber qué hace una función\n",
    "    \"\"\"\n",
    "    a = x + y\n",
    "    b = x + z\n",
    "    c = y + z\n",
    "    print(a, b, c)\n",
    "    \n",
    "\n",
    "suma(1, 2, 3)\n",
    "suma(1, 2)"
   ]
  },
  {
   "cell_type": "code",
   "execution_count": 149,
   "metadata": {},
   "outputs": [
    {
     "name": "stdout",
     "output_type": "stream",
     "text": [
      "9\n"
     ]
    }
   ],
   "source": [
    "def square(x):\n",
    "    y = x ** 2\n",
    "    return y\n",
    "\n",
    "result = square(3)\n",
    "print(result)\n"
   ]
  },
  {
   "cell_type": "code",
   "execution_count": 156,
   "metadata": {},
   "outputs": [
    {
     "name": "stdout",
     "output_type": "stream",
     "text": [
      "Help on function suma in module __main__:\n",
      "\n",
      "suma(x, y, z=0)\n",
      "    Esta documentaciónn se conoce como Docstring.\n",
      "    Es muy util para saber qué hace una función\n",
      "\n"
     ]
    }
   ],
   "source": [
    "help(suma)"
   ]
  },
  {
   "cell_type": "markdown",
   "metadata": {},
   "source": [
    "### Segundo challlenge!\n",
    "\n",
    "https://edabit.com/challenges\n",
    "\n",
    "**Python -> Very easy -> Strings**\n",
    "\n",
    "* [String to Integer and Vice Versa](https://edabit.com/challenge/WKJwo2xDNjKxwtGoH)\n",
    "    * `to_int(\"77\") ➞ 77`\n",
    "    * `to_int(\"532\") ➞ 532`\n",
    "    * `to_str(77) ➞ \"77\"`\n",
    "* [Compare Strings by Count of Characters](https://edabit.com/challenge/C3N2JEfFQoh4cqQ98)\n",
    "    * `comp(\"AB\", \"CD\") ➞ True`\n",
    "    * `comp(\"ABC\", \"DE\") ➞ False`\n",
    "* [Check if the Same Case](https://edabit.com/challenge/3XtrKPMbxAf86QjjS)\n",
    "    * `same_case(\"hello\") ➞ True`\n",
    "    * `same_case(\"HELLO\") ➞ True`\n",
    "    * `same_case(\"Hello\") ➞ False`\n",
    "* [Hashes and Pluses](https://edabit.com/challenge/pYwnLBJHBbHaEEano)\n",
    "    * `hash_plus_count(\"###+\") ➞ [3, 1]`\n",
    "    * `hash_plus_count(\"##+++#\") ➞ [3, 3]`"
   ]
  },
  {
   "cell_type": "markdown",
   "metadata": {},
   "source": [
    "### Tercer challlenge!\n",
    "\n",
    "https://edabit.com/challenges\n",
    "\n",
    "**Python -> Very easy -> Data structures**\n",
    "* [Total Number of Unique Characters](https://edabit.com/challenge/oTJaJ895ubqqpRPMh)\n",
    "    * `count_unique(\"apple\", \"play\") ➞ 5`\n",
    "        * `# \"appleplay\" has 5 unique characters:`\n",
    "        * `# \"a\", \"e\", \"l\", \"p\", \"y\"`\n",
    "    * `count_unique(\"sore\", \"zebra\") ➞ 7`\n",
    "* [Purge and Organize](https://edabit.com/challenge/EZMCpHaNFg2Yfsnxx)\n",
    "    * `unique_sort([1, 2, 4, 3]) ➞ [1, 2, 3, 4]`\n",
    "    * `unique_sort([1, 4, 4, 4, 4, 4, 3, 2, 1, 2]) ➞ [1, 2, 3, 4]`\n",
    "* [Return a List of Sublists](https://edabit.com/challenge/9szPm9Mg5D2vJyTvf)\n",
    "    * `matrix(x, y, z)`\n",
    "        * `x` Number of sublists contained within the main list.\n",
    "        * `y` Number of items contained within each sublist.\n",
    "        * `z` Item contained within each sublist.\n",
    "    * `matrix(3, 2, 3) ➞ [[3, 3], [3, 3], [3, 3]]`\n",
    "    * `matrix(2, 1, \"edabit\") ➞ [[\"edabit\"], [\"edabit\"]]`\n",
    "* [Simulate the Game \"Rock, Paper, Scissors\"](https://edabit.com/challenge/z3wYnBQPgBTzy87WA)\n",
    "    * `rps(\"rock\", \"paper\") ➞ \"Player 2 wins\"`\n",
    "    * `rps(\"paper\", \"rock\") ➞ \"Player 1 wins\"`\n",
    "    * `rps(\"paper\", \"scissors\") ➞ \"Player 2 wins\"`\n",
    "    * `rps(\"scissors\", \"scissors\") ➞ \"TIE\"`\n",
    "    * `rps(\"scissors\", \"paper\") ➞ \"Player 1 wins\"`\n",
    "    * **Nota**: Usa una matriz en lugar de sentencias if anidadas.\n",
    "* [Football Tournament Scores](https://edabit.com/challenge/KETgxWCWtrk7oLM49)"
   ]
  },
  {
   "cell_type": "markdown",
   "metadata": {},
   "source": [
    "**Shebang** es un sentencia al inicio del script que permite ejecutar en un momento dado el script sin necesidad de llamar al ejecutable de python, es decir ejecución standalone:\n",
    "\n",
    "`#!/usr/bin/env python3`\n",
    "\n",
    "En un sistemas unix, se agregan permisos de ejecución al script y luego de ejecuta:\n",
    "\n",
    "`./nombre_del_script.py`\n"
   ]
  },
  {
   "cell_type": "markdown",
   "metadata": {},
   "source": [
    "## Atajos (Comprehensions)\n",
    "### Crear listas al vuelo"
   ]
  },
  {
   "cell_type": "code",
   "execution_count": 158,
   "metadata": {},
   "outputs": [
    {
     "data": {
      "text/plain": [
       "['0', '1', '2', '3', '4', '5']"
      ]
     },
     "execution_count": 158,
     "metadata": {},
     "output_type": "execute_result"
    }
   ],
   "source": [
    "lista = [0,1,2,3,4,5]\n",
    "[str(x) for x in lista]"
   ]
  },
  {
   "cell_type": "code",
   "execution_count": 162,
   "metadata": {},
   "outputs": [
    {
     "data": {
      "text/plain": [
       "[(0, 'zero'), (0, 'one'), (1, 'zero'), (1, 'one')]"
      ]
     },
     "execution_count": 162,
     "metadata": {},
     "output_type": "execute_result"
    }
   ],
   "source": [
    "lista1 =[0,1]\n",
    "lista2 =['zero','one']\n",
    "[(x,y) for x in lista1 for y in lista2]"
   ]
  },
  {
   "cell_type": "code",
   "execution_count": 164,
   "metadata": {},
   "outputs": [
    {
     "data": {
      "text/plain": [
       "[(0, 'a'), (1, 'b'), (2, 'c'), (3, 'd'), (4, 'e')]"
      ]
     },
     "execution_count": 164,
     "metadata": {},
     "output_type": "execute_result"
    }
   ],
   "source": [
    "lista = ['a','b','c','d','e']\n",
    "[(i,j) for (i,j) in enumerate(lista)]"
   ]
  },
  {
   "cell_type": "code",
   "execution_count": 166,
   "metadata": {},
   "outputs": [
    {
     "data": {
      "text/plain": [
       "[2]"
      ]
     },
     "execution_count": 166,
     "metadata": {},
     "output_type": "execute_result"
    }
   ],
   "source": [
    "lista = ['a','b','c','d','e']\n",
    "[i for (i,j) in enumerate(lista) if j=='c']"
   ]
  },
  {
   "cell_type": "code",
   "execution_count": 168,
   "metadata": {},
   "outputs": [
    {
     "data": {
      "text/plain": [
       "['even', 'odd', 'even', 'odd', 'even', 'odd']"
      ]
     },
     "execution_count": 168,
     "metadata": {},
     "output_type": "execute_result"
    }
   ],
   "source": [
    "lista = [0,1,2,3,4,5]\n",
    "['even' if i%2==0 else 'odd' for i in lista]"
   ]
  },
  {
   "cell_type": "markdown",
   "metadata": {},
   "source": [
    "### Crear diccionarios al vuelo"
   ]
  },
  {
   "cell_type": "code",
   "execution_count": 170,
   "metadata": {},
   "outputs": [
    {
     "data": {
      "text/plain": [
       "{'1': 1, '2': 2, '3': 3, '4': 4, '5': 5}"
      ]
     },
     "execution_count": 170,
     "metadata": {},
     "output_type": "execute_result"
    }
   ],
   "source": [
    "{str(i):i for i in [1,2,3,4,5]}"
   ]
  },
  {
   "cell_type": "code",
   "execution_count": 174,
   "metadata": {},
   "outputs": [
    {
     "data": {
      "text/plain": [
       "{'bogota': 6,\n",
       " 'medellin': 8,\n",
       " 'monteria': 8,\n",
       " 'neiva': 5,\n",
       " 'pasto': 5,\n",
       " 'pereira': 7,\n",
       " 'popayan': 7}"
      ]
     },
     "execution_count": 174,
     "metadata": {},
     "output_type": "execute_result"
    }
   ],
   "source": [
    "cities = ['bogota', 'medellin', 'monteria', 'neiva', 'pasto', 'pereira', 'popayan']\n",
    "{city:len(city) for city in cities}\n"
   ]
  },
  {
   "cell_type": "code",
   "execution_count": 176,
   "metadata": {},
   "outputs": [
    {
     "data": {
      "text/plain": [
       "{'bogota': 'Bogota',\n",
       " 'medellin': 'Medellin',\n",
       " 'monteria': 'Monteria',\n",
       " 'neiva': 'Neiva',\n",
       " 'pasto': 'Pasto',\n",
       " 'pereira': 'Pereira',\n",
       " 'popayan': 'Popayan'}"
      ]
     },
     "execution_count": 176,
     "metadata": {},
     "output_type": "execute_result"
    }
   ],
   "source": [
    "{city:city.capitalize() for city in cities}"
   ]
  },
  {
   "cell_type": "code",
   "execution_count": 178,
   "metadata": {},
   "outputs": [
    {
     "data": {
      "text/plain": [
       "{'bogota': 0,\n",
       " 'medellin': 1,\n",
       " 'monteria': 2,\n",
       " 'neiva': 3,\n",
       " 'pasto': 4,\n",
       " 'pereira': 5,\n",
       " 'popayan': 6}"
      ]
     },
     "execution_count": 178,
     "metadata": {},
     "output_type": "execute_result"
    }
   ],
   "source": [
    "{city:i for i,city in enumerate(cities)}"
   ]
  },
  {
   "cell_type": "code",
   "execution_count": 183,
   "metadata": {},
   "outputs": [
    {
     "data": {
      "text/plain": [
       "{0: 'apple', 1: 'mango', 2: 'banana', 3: 'cherry'}"
      ]
     },
     "execution_count": 183,
     "metadata": {},
     "output_type": "execute_result"
    }
   ],
   "source": [
    "fruits = ['apple', 'mango', 'banana','cherry']\n",
    "f_dict = {f:i for i,f in enumerate(fruits)}\n",
    "# f_dict\n",
    "{v:k for k,v in f_dict.items()}"
   ]
  },
  {
   "cell_type": "markdown",
   "metadata": {},
   "source": [
    "### Crear conjuntos al vuelo"
   ]
  },
  {
   "cell_type": "code",
   "execution_count": 192,
   "metadata": {},
   "outputs": [
    {
     "data": {
      "text/plain": [
       "{'and', 'cat', 'had', 'hat', 'in', 'one', 'sidekicks', 'the', 'thing', 'two'}"
      ]
     },
     "execution_count": 192,
     "metadata": {},
     "output_type": "execute_result"
    }
   ],
   "source": [
    "sentence = \"The cat in the hat had two sidekicks, thing one and thing two.\"\n",
    "words = sentence.lower().replace('.', '').replace(',', '').split()\n",
    "# words\n",
    "unique_words = {word for word in words}\n",
    "unique_words"
   ]
  },
  {
   "cell_type": "code",
   "execution_count": 196,
   "metadata": {},
   "outputs": [
    {
     "data": {
      "text/plain": [
       "{'and', 'cat', 'had', 'hat', 'in', 'one', 'the', 'two'}"
      ]
     },
     "execution_count": 196,
     "metadata": {},
     "output_type": "execute_result"
    }
   ],
   "source": [
    "unique_words_lenght = {word for word in words if len(word) <= 3}\n",
    "unique_words_lenght"
   ]
  },
  {
   "cell_type": "code",
   "execution_count": 198,
   "metadata": {},
   "outputs": [
    {
     "data": {
      "text/plain": [
       "{'Had', 'Hat', 'and', 'cat', 'in', 'one', 'sidekicks', 'the', 'thing', 'two'}"
      ]
     },
     "execution_count": 198,
     "metadata": {},
     "output_type": "execute_result"
    }
   ],
   "source": [
    "unique_words = {word.capitalize() if word[0] == 'h' else word for word in words}\n",
    "unique_words"
   ]
  },
  {
   "cell_type": "code",
   "execution_count": 200,
   "metadata": {},
   "outputs": [
    {
     "data": {
      "text/plain": [
       "{'Had', 'Hat', 'and', 'cat', 'in', 'one', 'the', 'two'}"
      ]
     },
     "execution_count": 200,
     "metadata": {},
     "output_type": "execute_result"
    }
   ],
   "source": [
    "unique_words = {word.capitalize() if word[0] == 'h' else word for word in words if len(word) <= 3}\n",
    "unique_words"
   ]
  },
  {
   "cell_type": "markdown",
   "metadata": {},
   "source": [
    "## Módulo Collections\n",
    "\n",
    "Es una librería o módulo que [extiende las funcionalidades](https://docs.python.org/3/library/collections.html) de las estructuras de datos como listas, diccionarios, tuplas y conjuntos. Por ejemplo **\n",
    "defaultdict**:"
   ]
  },
  {
   "cell_type": "code",
   "execution_count": 217,
   "metadata": {},
   "outputs": [
    {
     "name": "stdout",
     "output_type": "stream",
     "text": [
      "defaultdict(<class 'list'>, {'yellow': [1, 3], 'blue': [2, 4], 'red': [1]})\n"
     ]
    }
   ],
   "source": [
    "from collections import defaultdict\n",
    "s = [('yellow', 1), ('blue', 2), ('yellow', 3), ('blue', 4), ('red', 1)]\n",
    "d = defaultdict(list)\n",
    "# print(d)\n",
    "for k, v in s:\n",
    "    d[k].append(v)\n",
    "print(d) # llaves únicas y valoes agrupados"
   ]
  },
  {
   "cell_type": "code",
   "execution_count": 220,
   "metadata": {},
   "outputs": [
    {
     "data": {
      "text/plain": [
       "[(('blue', 2), 1),\n",
       " (('blue', 4), 1),\n",
       " (('red', 1), 1),\n",
       " (('yellow', 1), 1),\n",
       " (('yellow', 3), 1)]"
      ]
     },
     "execution_count": 220,
     "metadata": {},
     "output_type": "execute_result"
    }
   ],
   "source": [
    "# s = [('yellow', 1), ('blue', 2), ('yellow', 1), ('blue', 4), ('red', 1)]\n",
    "d = defaultdict(int)\n",
    "for k in s:\n",
    "    d[k] += 1\n",
    "\n",
    "sorted(d.items())"
   ]
  },
  {
   "cell_type": "markdown",
   "metadata": {},
   "source": [
    "## Generadores"
   ]
  },
  {
   "cell_type": "code",
   "execution_count": 233,
   "metadata": {},
   "outputs": [
    {
     "name": "stdout",
     "output_type": "stream",
     "text": [
      "0\n",
      "1\n",
      "2\n"
     ]
    }
   ],
   "source": [
    "def infinite_sequence():\n",
    "    num = 0\n",
    "    while True:\n",
    "        yield num\n",
    "        num += 1\n",
    "\n",
    "# for i in infinite_sequence():\n",
    "#     print(i, end=\" \")\n",
    "\n",
    "gen = infinite_sequence()\n",
    "print(next(gen))\n",
    "print(next(gen))\n",
    "print(next(gen))"
   ]
  },
  {
   "cell_type": "markdown",
   "metadata": {},
   "source": [
    "**yield** es una sentencia especial que retorna un iterador llamado **generador**, esto es, puedes llamar el método next() para retornar la siguiente iteración.\n",
    "\n",
    "La sentencia **for** llama por defecto al método next():\n",
    "\n",
    "`\n",
    "for i in infinite_sequence():\n",
    "    print(i, end=\" \")\n",
    "`\n",
    "\n",
    "**yield => lazy iterator**\n"
   ]
  },
  {
   "cell_type": "markdown",
   "metadata": {},
   "source": [
    "## Referencias\n",
    "\n",
    "* Operadores Python3: https://www.tutorialspoint.com/python3/python_basic_operators.htm\n",
    "* Sentencia yield : https://realpython.com/introduction-to-python-generators/#understanding-the-python-yield-statement\n",
    "* Course about basics Python: https://campus.datacamp.com/courses/intro-to-python-for-data-science/"
   ]
  }
 ],
 "metadata": {
  "kernelspec": {
   "display_name": "Python 3",
   "language": "python",
   "name": "python3"
  },
  "language_info": {
   "codemirror_mode": {
    "name": "ipython",
    "version": 3
   },
   "file_extension": ".py",
   "mimetype": "text/x-python",
   "name": "python",
   "nbconvert_exporter": "python",
   "pygments_lexer": "ipython3",
   "version": "3.7.6"
  }
 },
 "nbformat": 4,
 "nbformat_minor": 4
}
