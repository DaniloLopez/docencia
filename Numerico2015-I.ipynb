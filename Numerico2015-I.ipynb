{
 "metadata": {
  "name": "",
  "signature": "sha256:fa9531a07a187d15f887edf7dd3d7f31ce39e981ef732a35010d32e2caef2894"
 },
 "nbformat": 3,
 "nbformat_minor": 0,
 "worksheets": [
  {
   "cells": [
    {
     "cell_type": "code",
     "collapsed": false,
     "input": [
      "from IPython.display import Image\n",
      "l1i = Image(filename='images/l1.png')"
     ],
     "language": "python",
     "metadata": {},
     "outputs": [],
     "prompt_number": 8
    },
    {
     "cell_type": "markdown",
     "metadata": {},
     "source": [
      "## An\u00e1lisis Num\u00e9rico - Universidad del Cauca - 2015-I\n"
     ]
    },
    {
     "cell_type": "markdown",
     "metadata": {},
     "source": [
      "### Limitaciones de lo tipos de datos\n",
      "\n",
      "#### Representaci\u00f3n de int\n",
      "\n",
      "Matem\u00e1ticamente el conjunto de n\u00fameros naturales es infinito $N={1,2,3...}$. Pero debido a que el computador tiene recursos *finitos*, es imposible representar estos n\u00fameros en la m\u00e1quina. En su lugar se cuenta con un conjunto reducido de n\u00fameros.\n",
      "\n",
      "As\u00ed por ejemplo el tipo de dato *entero* (usualmente **Out[15]**) representa n\u00fameros entre -2147483648 y +214748364 lo que corresponde a 4 bytes (eso es 4*8 bits, 2^32=4.294.967.296 correspondiente a un rango de -2.147.483.648 a +2147483647).\n",
      "\n",
      "Si una m\u00e1quina usa **8 bits** para representar n\u00fameros enteros, esta ser\u00eda la tabla para codificarlos:\n",
      "<table>\n",
      "    <tr>\n",
      "        <th>N\u00famero natural</th>\n",
      "        <th>Representaci\u00f3n binaria</th>\n",
      "    </tr>\n",
      "    <tr>\n",
      "        <td>0</td>\n",
      "        <td>00000000</td>\n",
      "    </tr>\n",
      "    <tr>\n",
      "        <td>1</td>\n",
      "        <td>00000001</td>\n",
      "    </tr>\n",
      "    <tr>\n",
      "        <td>2</td>\n",
      "        <td>00000010</td>\n",
      "    </tr>\n",
      "    <tr>\n",
      "        <td>3</td>\n",
      "        <td>00000011</td>\n",
      "    </tr>\n",
      "    <tr>\n",
      "        <td>4</td>\n",
      "        <td>00000100</td>\n",
      "    </tr>\n",
      "    <tr>\n",
      "        <td>5</td>\n",
      "        <td>00000101</td>\n",
      "    </tr>\n",
      "    <tr>\n",
      "        <td>.</td>\n",
      "        <td>.</td>\n",
      "    </tr>\n",
      "    <tr>\n",
      "        <td>254</td>\n",
      "        <td>11111110</td>\n",
      "    </tr>\n",
      "    <tr>\n",
      "        <td>255</td>\n",
      "        <td>11111111</td>\n",
      "    </tr>\n",
      "</table>\n",
      "\n",
      "Usando 8 bits podemos representar 256 n\u00fameros naturales; pero podemos usar una tabla ligeramente diferente para describir esos 256 n\u00fameros, por ejemplo de -127 a +128. Este es el *principio b\u00e1sico* de c\u00f3mo se representan los n\u00fameros en un computador.\n",
      "\n",
      "\u00bfCu\u00e1l es el m\u00e1ximo n\u00famero entero que puede representar su computador?"
     ]
    },
    {
     "cell_type": "code",
     "collapsed": false,
     "input": [
      "import sys\n",
      "\n",
      "sys.maxint"
     ],
     "language": "python",
     "metadata": {},
     "outputs": [
      {
       "metadata": {},
       "output_type": "pyout",
       "prompt_number": 1,
       "text": [
        "9223372036854775807"
       ]
      }
     ],
     "prompt_number": 1
    },
    {
     "cell_type": "markdown",
     "metadata": {},
     "source": [
      "Lo que equivale, en notaci\u00f3n cient\u00edfica, a $9.2 * 10^{18}$ (**Precisi\u00f3n simple**)"
     ]
    },
    {
     "cell_type": "markdown",
     "metadata": {},
     "source": [
      "#### Representaci\u00f3n de float (punto flotante)\n",
      "\n",
      "Un n\u00famero real $x$ puede ser escrito como:\n",
      "\n",
      "$x = a*10^{b}$\n",
      "\n",
      "donde $a$ es la mantisa y $b$ el exponente.\n",
      "\n",
      "Siguiendo el est\u00e1ndar EEE-754 se usa 8 bytes para representar un n\u00famero $x$. Estos 64 bits se dividen as\u00ed:\n",
      "\n",
      "* 10 bits para el exponente $b$\n",
      "* 54 bits para la mantisa $a$\n",
      "\n",
      "\u00bfCu\u00e1l es el n\u00famero en punto flotante que puede representar su m\u00e1quina?"
     ]
    },
    {
     "cell_type": "code",
     "collapsed": false,
     "input": [
      "sys.float_info"
     ],
     "language": "python",
     "metadata": {},
     "outputs": [
      {
       "metadata": {},
       "output_type": "pyout",
       "prompt_number": 18,
       "text": [
        "sys.float_info(max=1.7976931348623157e+308, max_exp=1024, max_10_exp=308, min=2.2250738585072014e-308, min_exp=-1021, min_10_exp=-307, dig=15, mant_dig=53, epsilon=2.220446049250313e-16, radix=2, rounds=1)"
       ]
      }
     ],
     "prompt_number": 18
    },
    {
     "cell_type": "markdown",
     "metadata": {},
     "source": [
      "El rango de n\u00fameros entre el m\u00e1s peque\u00f1o y el m\u00e1s grande en punto flotante se denomina **precisi\u00f3n doble**.\n",
      "\n",
      "**Epsilon de la m\u00e1quina**: el n\u00famero m\u00e1s peque\u00f1o que puede representar un tipo de dato (\u00bfdepende del lenguaje?). Seg\u00fan la [wikipedia](http://es.wikipedia.org/wiki/\u00c9psilon_de_la_m\u00e1quina): *El \u00e9psilon es el n\u00famero decimal m\u00e1s peque\u00f1o que, sumado a 1, la computadora nos arroja un valor diferente de 1, es decir, que no es redondeado*. [Wikipedia en ingl\u00e9s](http://en.wikipedia.org/wiki/Machine_epsilon)."
     ]
    },
    {
     "cell_type": "code",
     "collapsed": false,
     "input": [
      "epsilon = 1.0\n",
      "iteraciones = 0\n",
      "while epsilon + 1 > 1:\n",
      "    epsilon = epsilon / 2\n",
      "    iteraciones += 1\n",
      "print epsilon * 2, \" iteraciones: \", iteraciones"
     ],
     "language": "python",
     "metadata": {},
     "outputs": [
      {
       "output_type": "stream",
       "stream": "stdout",
       "text": [
        "2.22044604925e-16  iteraciones:  53\n"
       ]
      }
     ],
     "prompt_number": 7
    },
    {
     "cell_type": "markdown",
     "metadata": {},
     "source": [
      "EL n\u00famero de iteraciones est\u00e1 indicando que el computador puede representar n\u00fameros en coma flotante del orden de $2^{53}$ (53 es la precisi\u00f3n), lo cual concuerda con la [tabla de valores est\u00e1ndar](http://en.wikipedia.org/wiki/Machine_epsilon) para una m\u00e1quina de 64 bits.\n",
      "En java se puede usar [la unidad de menor precisi\u00f3n](http://en.wikipedia.org/wiki/Unit_in_the_last_place) con par\u00e1metro uno: Math.ulp(1).\n",
      "\n",
      "\n",
      "El **n\u00famero m\u00e1s peque\u00f1o en que la m\u00e1quina** no puede diferenciar entre 0 y ese n\u00famero:"
     ]
    },
    {
     "cell_type": "code",
     "collapsed": false,
     "input": [
      "epsilon = 1.0\n",
      "epsilo_anterior = 0\n",
      "iteracines = 0\n",
      "while epsilon > 0:\n",
      "    epsilon_anterior = epsilon\n",
      "    epsilon = epsilon / 2.0\n",
      "    iteraciones += 1\n",
      "print \"epsilon: \", epsilon, \"| epsilon antes de valer cero: \", epsilon_anterior, \"| converge a cero en\", iteraciones, \"iteraciones\""
     ],
     "language": "python",
     "metadata": {},
     "outputs": [
      {
       "output_type": "stream",
       "stream": "stdout",
       "text": [
        "epsilon:  0.0 | epsilon antes de valer cero:  4.94065645841e-324 | converge a cero en 1128 iteraciones\n"
       ]
      }
     ],
     "prompt_number": 15
    },
    {
     "cell_type": "markdown",
     "metadata": {},
     "source": [
      "Para hallar en java este mismo n\u00famero se puede usar [la unidad de menor precisi\u00f3n](http://en.wikipedia.org/wiki/Unit_in_the_last_place) con par\u00e1metro cero: Math.ulp(0)."
     ]
    },
    {
     "cell_type": "markdown",
     "metadata": {},
     "source": [
      "#### Preguntas (Propagaci\u00f3n de errores por aproximaciones)\n",
      "\n",
      "* \u00bfPor qu\u00e9 la operaci\u00f3n 0.1 + 0.2 da como resultado 0.30000000000000004 y en cambio 0.1 + 0.3 da una resultado m\u00e1s preciso?\n",
      "* \u00bfCu\u00e1l es la soluci\u00f3n al problema anterior?\n",
      "* De ejemplos de los problemas que esto puede causar. \u00bfCiclos infinitos? \u00bfsistema bancario? \u00bfcobro de impuestos?\n"
     ]
    },
    {
     "cell_type": "markdown",
     "metadata": {},
     "source": [
      "#### Matem\u00e1tica simb\u00f3lica \n",
      "\n",
      "Diferencia en entra la computaci\u00f3n num\u00e9rica y la computaci\u00f3n simb\u00f3lica"
     ]
    },
    {
     "cell_type": "code",
     "collapsed": false,
     "input": [
      "from sympy import Symbol\n",
      "\n",
      "#computaci\u00f3n simb\u00f3lica\n",
      "\n",
      "x = Symbol('x')\n",
      "y = Symbol('y')\n",
      "\n",
      "2*x-x"
     ],
     "language": "python",
     "metadata": {},
     "outputs": [
      {
       "metadata": {},
       "output_type": "pyout",
       "prompt_number": 19,
       "text": [
        "x"
       ]
      }
     ],
     "prompt_number": 19
    },
    {
     "cell_type": "code",
     "collapsed": false,
     "input": [
      "x + y + x + 10*y"
     ],
     "language": "python",
     "metadata": {},
     "outputs": [
      {
       "metadata": {},
       "output_type": "pyout",
       "prompt_number": 20,
       "text": [
        "2*x + 11*y"
       ]
      }
     ],
     "prompt_number": 20
    },
    {
     "cell_type": "code",
     "collapsed": false,
     "input": [
      "y + x - y + 10"
     ],
     "language": "python",
     "metadata": {},
     "outputs": [
      {
       "metadata": {},
       "output_type": "pyout",
       "prompt_number": 21,
       "text": [
        "x + 10"
       ]
      }
     ],
     "prompt_number": 21
    },
    {
     "cell_type": "markdown",
     "metadata": {},
     "source": [
      "### Soluci\u00f3n de ecuaciones no lineales\n",
      "\n",
      "#### M\u00e9todo de la bisecci\u00f3n o b\u00faqueda binaria (p\u00e1gina 124 de [1])\n",
      "\n",
      "* Paso 1: Se calcula el punto intermedio del intervalo, esto es $p = (a+b)/ 2$ o $p=a + (b -a)/2$ para cuando se necesite precisi\u00f3n en el resultado.\n",
      "* Paso 2: Se eval\u00faa $p$ en la funci\u00f3n para obtener su signo.\n",
      "* Paso 3: Si $f(a).f(b) < 0 $ entonces el cero est\u00e1 en el sub-intervalo [a,p], en caso contrario se encuentra en el otro sub-intervalo [p,b]\n",
      "* Paso 4: Con estos valores se calcula de nuevo, en el sub-intervalo seleccionado, el punto medio, esto es, volvemos al *paso 1*. El proceso se repite con estos pasos hasta que $f(p) = 0$ \u00f3 se cumpla un criterio de parada, con respecto a esto, para alg\u00fan $e > 0$:\n",
      "$$|(P_{n} - P_{n-1}) / P_{n}| < e_{s}$$\n",
      "donde $e_{s}$ es un error aceptable (tolerancia deseada)\n",
      "\n",
      "##### Ejercicios\n",
      "\n",
      "Muestre una tabla con los siguintes datos:\n",
      "<table>\n",
      "    <tr>\n",
      "        <th>Iteraci\u00f3n</th>\n",
      "        <th>a</th>\n",
      "        <th>b</th>\n",
      "        <th>p</th>\n",
      "        <th>f(p)</th>\n",
      "        <th>error apr\u00f3ximado</th>\n",
      "    </tr>\n",
      "    <tr>\n",
      "        <td></td>\n",
      "        <td></td>\n",
      "        <td></td>\n",
      "        <td></td>\n",
      "        <td></td>\n",
      "        <td></td>\n",
      "    </tr>\n",
      "</table>\n",
      "\n",
      "* La siguiente ecuaci\u00f3n tiene una ra\u00edz \u00fanica en el intervalo (-1, 0):\n",
      "$$x + e^{-Bx^{2}} cos(x) = 0 $$\n",
      "Encuentre los resultado m\u00e1s precisos para los valores de B=1, 5, 10, 25, 50.\n",
      "* Encuentre una aproximaci\u00f3n del valor de $root^{3}({25})$, correcta dentro de $10^{-4}$, usando bisecci\u00f3n.\n",
      "* Encuentre una aproximaci\u00f3n del valor de $f(x) = pi+0.5 sen(x)$, correcta dentro de $10^{-4}$, usando bisecci\u00f3n.\n",
      "* Econtrar soluciones precisas, con un error de $10^{-5}$, para la siguiente ecuaci\u00f3n:\n",
      "$$(senx - (x/2))^{2} = 0 $$ para $0<= x <= pi$\n",
      "* Determinar las raices reales de $f(x) = 5x^{3} \u2013 5x^{2} + 6x \u2013 2$ . Use los valores iniciales $x_{l} = 0$ y $x_{u} = 1$ iterando hasta que el error estimado $e_{a}$ est\u00e9 por debajo de $e_{s} = 10\\%$"
     ]
    },
    {
     "cell_type": "markdown",
     "metadata": {},
     "source": [
      "----\n",
      "\n",
      "#### M\u00e9todo del punto fijo (p\u00e1gina 143 de [1])\n",
      "\n",
      "Sea $g(x)$ una funci\u00f3n continua en [a,b], a la intersecci\u00f3n de $g(x)$ con la recta $y = x$, esto es $x = g(x)$ se le llama Punto Fijo.\n",
      "\n",
      "Sea la ecuaci\u00f3n general $f(x) = 0$. Se desea encontrar una ra\u00edz real. El primer paso consiste en transformar $f(x)$ a una forma equivalente: $x = g(x)$. Por ejemplo si $f(x) = x^2- x - 2$ La elecci\u00f3n de $g(x)$ se puede hacer de muchas formas. Algunas de ellas, obtenidas despejando $x$ de $f(x)$ de distintas formas, as\u00ed: $g(x) = x^2 - 2$ \u00f3 $g(x) = 2 / (x-1)$.\n",
      "\n",
      "* Paso 1: Se escoge $P_{0}$ en el intervalo dado.\n",
      "* Paso 2: Se asigna $p = g(P_{0})$ (se calcula $P_{i}$)\n",
      "* Paso 3: Se calcula el error con $|P - P_{0}| < e_{s}$ donde $e_{s}$ es la tolerancia deseada\n",
      "* Paso 4: Si cumple lo anterior $p$ es la aproximaci\u00f3n, sino se vuelve se vuelve al *Paso 2* con $P_{0} = p$.\n",
      "\n",
      "##### Ejercicios\n",
      "Muestre una tabla con los siguintes datos:\n",
      "<table>\n",
      "    <tr>\n",
      "        <th>Iteraci\u00f3n (n)</th>\n",
      "        <th>$p_{0}$</th>\n",
      "        <th>f($p_{0}$)</th>\n",
      "        <th>error apr\u00f3ximado (ea)</th>\n",
      "    </tr>\n",
      "    <tr>\n",
      "        <td></td>\n",
      "        <td></td>\n",
      "        <td></td>\n",
      "        <td></td>\n",
      "    </tr>\n",
      "</table>\n",
      "\n",
      "* Aplique el teorema de punto fijo para mostrar que $g(x) = {\\pi} + 0.5 sen x$ tiene un punto fijo \u00fanico en $[0,{\\pi}]$. Utilice la iteraci\u00f3n de punto fijo para encontrar una aproximaci\u00f3n a dicho punto con una precis\u00f3n de $10^{-2}$. \u00bfCu\u00e1ntas iteraciones se necestia para encontrar esta precisi\u00f3n?\n",
      "* Se proponen los siguientes m\u00e9todos para calcular $7^{15}$. Clasif\u00edquelos por orden, tomando como base su rapidez de convergencia y suponiendo que $p_{0} = 1$:\n",
      "    - $$p_{n} = (1 + ((7 - p^3_{n-1}) / (p^2_{n-1}) ))^{1/2}$$\n",
      "    - $$p_{n} = p_{n-1} - (p^5_{n-1} - 7) / (p^2_{n-1}) $$\n",
      "    - $$p_{n} = p_{n-1} - (p^5_{n-1} - 7) / (5p^4_{n-1}) $$\n",
      "    - $$p_{n} = p_{n-1} - (p^5_{n-1} - 7) / (12) $$\n",
      "* Aplique el m\u00e9todo de iteraci\u00f3n de punto fijo para determinar una soluci\u00f3n con una exactitud de $10^{-2}$ para $x^{4} - 3x^{2} - 3 = 0$ en [1,2]. Utilice $p_{0} = 1$\n",
      "* Encuentre una aproximaci\u00f3n del valor de $root^{3}({25})$ (cuya funci\u00f3n $f(x) = x^3 - 25$), con una exactitud de $10^{-4}$, usando aproximaci\u00f3n por punto fijo. Compare el n\u00famero de iteraciones con las requeridas del ejercicio del punto anterior.\n",
      "* En cada una de las siguientes ecuaciones, determine un intervalo [a,b] en eque converger\u00e1 la iteraci\u00f3n de punto fijo. Estime la cantidad de iteraciones necesarias para obtener aproximaciones con una exactitud de $10^{-5}$ y realice los c\u00e1lculos:\n",
      "    - $$x = (2 - e^{x} + x^{2}) / 3$$\n",
      "    - $$x = (5 / (x^{2}) ) + 2 $$\n",
      "    - $$x = (e^{x}/3)^{1/2} $$\n",
      "    - $$x = 5^{-x} $$\n",
      "    - $$x = 6^{-x} $$\n",
      "    - $$x = 0.5(senx + cosx)$$\n",
      "* "
     ]
    },
    {
     "cell_type": "markdown",
     "metadata": {},
     "source": [
      "----\n",
      "\n",
      "#### M\u00e9todo de Newton-Raphson (p\u00e1gina 148 de [1])\n",
      "\n",
      "El m\u00e9todod de **Newton** o de **Newton-Raphson** es una de las t\u00e9cnicas num\u00e9ricas para resolver un problema de b\u00fasqueda de raices $f(x) = 0$ m\u00e1s poderosas y conocidas. Existen varias formas de presentarlo: una es de forma gr\u00e1fica; otra t\u00e9cnica es mediante iteraci\u00f3n funcional (m\u00e9todo de la secante); y el que se basa en los polinomios de Taylor, el cual usaremos en esta secci\u00f3n.\n",
      "\n",
      "El m\u00e9todo de Newton comienza con una aproximaci\u00f3n $x_{0}$ y genera la sucesi\u00f3n $\\lbrace x_{i} \\rbrace_{i=0}^{\\infty} $ definida por (para m\u00e1s detalle ver p\u00e1gina 120 de [2]):\n",
      "\n",
      "$$0 = f(x) = f(x_{0}) + (x - x_{0})f'(x_{0}) + \\frac{(x - x_{0})^2}{2}$$\n",
      "\n",
      "$$\\rightarrow -f(x_{0}) = (x - x_{0})f'(x_{0}) \\rightarrow x - x_{0} = \\frac{-f(x_{0})}{f'(x_{0})}$$\n",
      "\n",
      "$$\\rightarrow x = x_{0} - \\frac{f(x_{0})}{f'(x_{0})}$$\n",
      "\n",
      "En general:\n",
      "\n",
      "$$x_{i+1} = x_{i} - \\frac{f(x_{i})}{f'(x_{i})}$$\n",
      "\n",
      "\u00f3 \n",
      "\n",
      "$$x_{i} = x_{i-1} - \\frac{f(x_{i-1})}{f'(x_{i-1})}$$ con i >= 1\n",
      "\n",
      "**Algoritmo**\n",
      "\n",
      "Para obtener una soluci\u00f3n a $f(x) = 0$ dada la funci\u00f3n diferenciable $f$ y una aproximaci\u00f3n inicial $x_{0}$:\n",
      "\n",
      "ENTRADA: aproximaci\u00f3n inicial $x_{0}$; error esperado (tolerancia); n\u00famero m\u00e1ximo de iteraciones $n$\n",
      "\n",
      "SALIDA: soluci\u00f3n aproximada $x$ o un mensaje de fracaso.\n",
      "\n",
      "* Paso 1: tome i = 1\n",
      "* Paso 2: mientras i < = n haga pasos 3-6\n",
      "* Paso 3: tome $x = x_{0} - f(x_{0}) / f'(x_{0})$  (calcule $x_{i}$)\n",
      "* Paso 4: si |$x - x_{0}$| < tolerancia entonces\n",
      "  * SALIDA(x); (terminar satisfactoriamente)\n",
      "  * PARAR\n",
      "* Paso 5: tome i = i +1\n",
      "* Paso 6: tome $x_{0} = x$\n",
      "* Paso 7: SALIDA('El m\u00e9todo fracas\u00f3 despu\u00e9s de n iteraciones') (terminar sin \u00e9xito). PARAR.\n",
      "\n",
      "El error apr\u00f3ximado se calcula igual que en los m\u00e9todos anteriores.\n",
      "\n",
      "##### Ejercicios\n",
      "Muestre una tabla con los siguintes datos y una gr\u00e1fica de la ecuaci\u00f3n:\n",
      "<table>\n",
      "    <tr>\n",
      "        <th>Iteraci\u00f3n (n)</th>\n",
      "        <th>$x_{i}$</th>\n",
      "        <th>f($x_{i}$)</th>\n",
      "        <th>error apr\u00f3ximado (ea)</th>\n",
      "    </tr>\n",
      "    <tr>\n",
      "        <td></td>\n",
      "        <td></td>\n",
      "        <td></td>\n",
      "        <td></td>\n",
      "    </tr>\n",
      "</table>\n",
      "\n",
      "* Sean $f(x) = x^2 - 6$ y $x_{0} = 1$. Aplique el m\u00e9todo de Newton para encontrar $x_{2}$.\n",
      "* Sean $f(x) = -x^3 - cosx$ y $x_{0} = -1$. Aplique el m\u00e9todo de Newton para encontrar $x_{2}$. \u00bfPodr\u00edamos utilizar $x_{0} = 0$?\n",
      "* Aplique el m\u00e9todo de Newton para obtener soluciones con una exactitud de $10^{-4}$ para los siguintes problemas:\n",
      "  * $x^3 - 2x^2 - 5 = 0,   [1,4]$\n",
      "  * $x^3 + 3x^2 - 1 = 0,  [-3,-2]$\n",
      "  * $x - cosx = 0,  [0,{\\pi/2}]$\n",
      "  * $x - 0.8 - 0.2 senx = 0,  [0,{\\pi/2}]$\n",
      "* Problema 6.26 de [1], p\u00e1gina 169 (193 del pdf)\n",
      "* Problema 8.15 de [1], p\u00e1gina 219 (243 del pdf)\n",
      "\n"
     ]
    },
    {
     "cell_type": "markdown",
     "metadata": {},
     "source": [
      "----\n",
      "\n",
      "#### M\u00e9todo de la secante (p\u00e1gina 154 de [1])\n",
      "La dificultad computacional del m\u00e9todo de Newton radica en que el c\u00e1lculo de $f'(x_{i-1})$ ya que la funci\u00f3n puede tener un punto cr\u00edtico en el intervalo dado. esto es, la derivada es igual a cero en ese punto.Para evitar este problema se usa una forma alterna para calcular $f'(x_{i-1})$, aproximando este valor por medio de una secante y por eso este m\u00e9todo recibe este nombre, cuya sucesi\u00f3n es la siguiente:\n",
      "\n",
      "como $$ f'(x_{i-1}) = \\frac{f(x_{i-1}) - f(x_{i-2})}{x_{i-1} - x_{i-2}} $$\n",
      "\n",
      "$$\\rightarrow x_{i} = x_{i-1} - \\frac{(x_{i-1} - x_{i-2}) f(x_{i-1}) }{f(x_{i-1}) - f(x_{i-2}) } $$\n",
      "\n",
      "**Algoritmo**\n",
      "\n",
      "Para encontrar una soluci\u00f3n para $f(x) = 0$ dadas las aproximaciones iniciales $p_{0} y p_{1}$:\n",
      "\n",
      "ENTRADA: aproximaciones iniciales $p_{0} y p_{1}$; error esperado (tolerancia); n\u00famero m\u00e1ximo de iteraciones $n$:\n",
      "\n",
      "SALIDA: soluci\u00f3n aproximada $p$ mensaje de fracaso.\n",
      "\n",
      "* Paso 1: tome i = 2\n",
      "  * $q_{0} = f(p_{0})$\n",
      "  * $q_{1} = f(p_{1})$\n",
      "* Paso 2: mientras i < = n haga pasos 3 -6\n",
      "* Paso 3: tome $p = p_{1} - q_{1}(p_{1} - p_{0}) / (q_{1} - q_{0})$  (calcule $p_{i}$)\n",
      "* Paso 4: si |$p - p_{1}$| < tolerancia entonces\n",
      "  SALIDA(P) (terinar satisfactoriamente)\n",
      "  PARAR\n",
      "* Paso 5: tome i = i + 1\n",
      "* Paso 6: tome $p_{0} = p_{1}$\n",
      "  * $q_{0} = q_{1}$\n",
      "  * $p_{1} = p$\n",
      "  * $q_{1} = f(p)$\n",
      "* Paso 7: SALIDA('El m\u00e9todo fall\u00f3 depu\u00e9s de n iteraciones') PARAR (terminar sin \u00e9xito)\n",
      "\n",
      "\n",
      "##### Ejercicios\n",
      "Muestre una tabla con los siguientes datos y una gr\u00e1fica de la ecuaci\u00f3n:\n",
      "<table>\n",
      "    <tr>\n",
      "        <th>Iteraci\u00f3n (n)</th>\n",
      "        <th>$x_{i}$</th>\n",
      "        <th>f($x_{i}$)</th>\n",
      "        <th>error apr\u00f3ximado (ea)</th>\n",
      "    </tr>\n",
      "    <tr>\n",
      "        <td></td>\n",
      "        <td></td>\n",
      "        <td></td>\n",
      "        <td></td>\n",
      "    </tr>\n",
      "</table>\n",
      "\n",
      "* Resolver la siguiente ecuaci\u00f3n $x - cosx = 0$ con una exactitud de $10^{-5}$ usando el m\u00e9todo de la secante.\n",
      "* Sea $f(x) = -x^3 - cosx$ Con $x_{0} = -1$ y $x_{1} = 0$ , obtenga $x_{3}$.\n",
      "* Aplique el m\u00e9todo de la secante para obtener soluciones con una exactitud de $10^{-4}$ para los siguientes problemas:\n",
      "  * $ln(x-1) + cos(x-1) = 0$ para $1.3<=x>=2$\n",
      "  * $e^x - 3x^2 = 0$ para $0<=x>=1$ y $3<=x>=5$\n",
      "* Problema 6.25 de [1], p\u00e1gina 168 (192 del pdf)\n",
      "* Problema 8.15 de [1], p\u00e1gina 219 (243 del pdf)\n"
     ]
    },
    {
     "cell_type": "markdown",
     "metadata": {
      "slideshow": {
       "slide_type": "skip"
      }
     },
     "source": [
      "----\n",
      "\n",
      "#### M\u00e9todo de M\u0323\u00fcller (p\u00e1gina 177 de [1])\n",
      "\n",
      "Este m\u00e9todo permite calcular ra\u00edces de un polinomio de pueden ser reales o complejas. Es una extensi\u00f3n de la secante y consiste en utilizar tres aproximaciones iniciales $x_{0},x_{1},x_{2}$ para determinar la siguiente aproximaci\u00f3n $x_{3}$ al considerar la intersecci\u00f3n del eje $x$ con la par\u00e1bola que pasa por $(x_{0},f(x_{0})), (x_{1},f(x_{1}))$ y $(x_{2},f(x_{2}))$.\n",
      "\n",
      "Para determinar el m\u00e9todo, consideremos:\n",
      "\n",
      "$$P(x) = a(x - x_{2})^2 + b(x - x_{2}) + c$$\n",
      "\n",
      "Como este polinomio debe pasar por  los tres puntos iniciales, tenemos:\n",
      "$$f(x_{0}) = P(x_{0}) = a(x_{0} - x_{2})^2 + b(x_{0} - x_{2}) + c$$\n",
      "$$f(x_{1}) = P(x_{1}) = a(x_{1} - x_{2})^2 + b(x_{1} - x_{2}) + c$$\n",
      "$$f(x_{2}) = P(x_{2}) = a(x_{2} - x_{2})^2 + b(x_{2} - x_{2}) + c = c$$\n",
      "\n",
      "Haciendo los despejes respectivos se tiene:\n",
      "$$c = f(x_{2})$$\n",
      "$$b = \\frac{ (x_{0} - x_{2})^2[f(x_{1}) - f(x_{2})] - (x_{1} - x_{2})^2[f(x_{0}) - f(x_{2})] } { (x_{0} - x_{2})(x_{1} - x_{2})(x_{0} - x_{1})}$$\n",
      "$$c = \\frac{ (x_{1} - x_{2})[f(x_{0}) - f(x_{2})] - (x_{0} - x_{2})[f(x_{1}) - f(x_{2})] } { (x_{0} - x_{2})(x_{1} - x_{2})(x_{0} - x_{1})}$$\n",
      "\n",
      "Para determinar $x_{3}$, una ra\u00edz de P, aplicamos la f\u00f3rmula cuadr\u00e1tica a $P(x)=0$. Para evitar un poco errores del redondeo, se usa la siguiente expresi\u00f3n:\n",
      "\n",
      "$$x_{3} = x_{2} - \\frac{2c}{b + signo(b) \\sqrt{{b^2 - 4ac}}}$$\n",
      "\n",
      "##### Ejercicios\n",
      "\n",
      "Comprobar el algoritmo con $f(x) = 16x^4 - 40x^3 + 5x^2 + 20x + 6$ con tolerancia de $10^{-5}$:\n",
      "\n",
      "* con los valores $x_{0} = 0.5, x_{1}=-0.5, x_{2}=0$ se obtiene la ra\u00edz $-0.356062 + 0.162758i$\n",
      "* con los valores $x_{0} = 0.5, x_{1}=1.0, x_{2}=1.5$ se obtiene la ra\u00edz $1.24168$\n",
      "* con los valores $x_{0} = 2.5, x_{1}=2.0, x_{2}=2.25$ se obtiene la ra\u00edz $1.97044$\n",
      "\n",
      "Muestre una tabla con los siguientes datos y una gr\u00e1fica de la ecuaci\u00f3n:\n",
      "<table>\n",
      "    <tr>\n",
      "        <th>Iteraci\u00f3n (n)</th>\n",
      "        <th>$x_{i}$</th>\n",
      "        <th>f($x_{i}$)</th>\n",
      "        <th>error apr\u00f3ximado (ea)</th>\n",
      "    </tr>\n",
      "    <tr>\n",
      "        <td></td>\n",
      "        <td></td>\n",
      "        <td></td>\n",
      "        <td></td>\n",
      "    </tr>\n",
      "</table>\n",
      "\n",
      "* Ejercicio 7.3 (P\u00e1gina 197 de [1])\n",
      "* Ejercicio 7.4 (P\u00e1gina 197 de [1])\n",
      "* $f(x) = x^3 - 2x^2 - 5$ con una exactitud de $10^{-4}$\n",
      "* $f(x) = x^3 + 2x^2 - 1$ con una exactitud de $10^{-4}$\n",
      "* $f(x) = 16x^4 + 88x^3 + 159x^2 76x - 240$ con una exactitud de $10^{-5}$\n"
     ]
    },
    {
     "cell_type": "markdown",
     "metadata": {},
     "source": [
      "----\n",
      "\n",
      "#### Estudio de casos: ra\u00edces de ecuaciones (p\u00e1gina 199 de [1] (223 del pdf))\n",
      "\n",
      "* Seleccionar dos problemas del cap\u00edtulo 8 (p\u00e1gina 216(240) de [1]) que m\u00e1s le llame la atenci\u00f3n, an\u00e1lizarlos y tratar de resolverlos. Nos interesa el proceso que se lleva a cabo para dar o no con una soluci\u00f3n.\n",
      "* Se recomienda la revisi\u00f3n de la secci\u00f3n **Ep\u00edlogo: parte dos** (p\u00e1gina 227 (251) de [1]) donde se presenta un resumen y comparaci\u00f3n de los diferentes m\u00e9todos para hallar ra\u00edces de ecuaciones no lineales.\n",
      "* "
     ]
    },
    {
     "cell_type": "markdown",
     "metadata": {},
     "source": [
      "----\n",
      "\n",
      "### Interpolaci\u00f3n y aproximaci\u00f3n de funciones (Ajuste de curvas)\n",
      "Hay dos tipos de problemas que ha menudo de confunden, el primero es encontrar a partir de un n\u00famero de puntos o datos, un polinomio que pase por los puntos, esto es $P(x_{i}) = f(x_{i})$ llamado **polinomio interpolante** que se puede usar para aproximar una funci\u00f3n donde s\u00f3lo se conoce estos puntos; el segundo es buscar un polinomio tal que la suma de los cuadrados de sus distancias sea m\u00ednima. El criterio es conocido como **m\u00ednimos cuadrados** y en general se conoce como *ajuste polinomial*. Tambi\u00e9n se puede usar otro tipo de ajuste como el exponencial, logar\u00edtmico y potencial.\n",
      "\n",
      "Este tema es importante ya que en muchos experimentos lo que se tienen son tablas de datos y se quiere encontrar una expresi\u00f3n matem\u00e1tica que muestre el comportamiento de los datos. As\u00ed por ejemplo se puede tener en registros historicos el censo de una poblaci\u00f3n entre los a\u00f1os 1940 a 1990, pero podr\u00edamos preguntarnos si es posible utilizarlos para obtener una estimaci\u00f3n razonable de la poblaci\u00f3n en el a\u00f1o 2050. Este tipo de predicciones puede obtenerse por medio de una funci\u00f3n que corresponda a los datos disponibles. Este proceso recibe el nombre de **interpolaci\u00f3n**."
     ]
    },
    {
     "cell_type": "markdown",
     "metadata": {},
     "source": [
      "----\n",
      "\n",
      "#### 1. Interpolaci\u00f3n Polinomial de Newton (p. 503 de [1])\n",
      "\n",
      "El polinomio de $n$-\u00e9simo grado es\n",
      "\n",
      "$$f_{n}(x) = b_{0} + b_{1}(x \u2013 x_{0} ) + ... + b_{n} (x \u2013 x_{0} )(x \u2013 x_{1} )...(x \u2013 x_{n\u20131} )$$\n",
      "\n",
      "donde\n",
      "\n",
      "$b_{0} = f(x_{0} )$\n",
      "\n",
      "$b_{1} = f[x_{1} , x_{0} ]$\n",
      "\n",
      "$b_{2} = f[x_{2} , x_{1} , x_{0} ]$\n",
      "\n",
      ".\n",
      ".\n",
      ".\n",
      "\n",
      "$b_{n} = f[x_{n} , x_{n\u20131} , ..., x_{1} , x_{0} ]$\n",
      "\n",
      "Y las evaluaciones de las funciones vienen dadas por las **diferencias divididas finitas** (p. 508) que se expresan de forma general como:\n",
      "\n",
      "$$f[x_{i} , x_{j} ] = \\frac{ f( x_{i} ) \u2013 \u0192( x_{j} )} {x_{i} \u2013 x_{j} }$$\n",
      "\n",
      "\n",
      "**Seuc\u00f3digo en la p\u00e1gina 513 de [1] (537 del pdf)**\n",
      "\n",
      "**Otro Seuc\u00f3digo en la p\u00e1gina 124 de [3]**\n",
      "\n",
      "ENTRADA los n\u00fameros $x_{0}, x_{1}, ..., x_{n}$; valores $f(x_{0}), f(x_{1}), ..., f(x_{n})$ como $F_{0,0}, F_{1,0}, ..., F_{n,0}$\n",
      "\n",
      "SALIDA los n\u00fameros $F_{0,0}, F_{1,1}, ..., F_{n,n}$ donde\n",
      "\n",
      "$$P(x) = \\sum_{i=0}^n F_{i,i} \\prod_{j=0}^{i-1} (x-x_{j})  $$\n",
      "\n",
      "PASO 1\n",
      "\n",
      "  para i = 1, 2, ..., n\n",
      "\n",
      "     para i = 1, 2, ..., n\n",
      "   \n",
      "  tome $F_{ij} = \\frac{F_{i,j-1} - F_{i-1, j-1}}{x_{i} - x_{i-j}}$ (diferencias divididas interpolantes de Newton)\n",
      "\n",
      "PASO 2  SALIDA ($F_{0,0}, F_{1,1}, ..., F_{n,n}$); ($F_{i,i}$ es $f[x_{0}, x_{1}, ..., x_{i}]$) PARAR\n",
      "\n",
      "##### Ejercicios (537 de [1] {561 del pdf})\n",
      "\n",
      "Mostrar los **coeficientes del polinomio** obtenido y una tabla con los siguientes datos:\n",
      "<table>\n",
      "    <tr>\n",
      "        <th>Iteraci\u00f3n (n)</th>\n",
      "        <th>$x_{i}$</th>\n",
      "        <th>f($x_{i}$)</th>\n",
      "        <th>error apr\u00f3ximado (ea)</th>\n",
      "    </tr>\n",
      "    <tr>\n",
      "        <td></td>\n",
      "        <td></td>\n",
      "        <td></td>\n",
      "    </tr>\n",
      "</table>\n",
      "\n",
      "* 18.1 de [1]\n",
      "* 18.2 de [1]\n",
      "* 18.3 de [1]\n",
      "* 18.4 de [1]\n"
     ]
    },
    {
     "cell_type": "markdown",
     "metadata": {},
     "source": [
      "---\n",
      "\n",
      "#### 2. Interpolaci\u00f3n de Lagrange (p. 516 de [1] {540 del pdf}\n",
      "\n",
      "El *polinomio de interpolaci\u00f3n de Lagrange* es una reformulaci\u00f3n del polinomio de Newton que evita el c\u00e1lculo de las diferencias divididas, y se representa de manera concisa como:\n",
      "\n",
      "$$f_{n}(x) = \\sum_{i=0}^n L_{i}(x)f(x_{i})$$\n",
      "\n",
      "donde\n",
      "\n",
      "$$L_{i}(x) = \\prod_{j=0 (j!=i)}^n \\frac{x - x_{j}}{x_{i} - x_{j}}$$\n",
      "\n",
      "\n",
      "**Seuc\u00f3digo en la p\u00e1gina 518 de [1] (542 del pdf)**\n",
      "\n",
      "\n",
      "##### Ejercicios (537 de [1] {561 del pdf})\n",
      "\n",
      "Mostrar los **coeficientes del polinomio** obtenido y una tabla con los siguientes datos:\n",
      "<table>\n",
      "    <tr>\n",
      "        <th>Iteraci\u00f3n (n)</th>\n",
      "        <th>$x_{i}$</th>\n",
      "        <th>f($x_{i}$)</th>\n",
      "    </tr>\n",
      "    <tr>\n",
      "        <td></td>\n",
      "        <td></td>\n",
      "    </tr>\n",
      "</table>\n",
      "\n",
      "\n",
      "* 18.6 de [1]\n",
      "* 18.7 de [1]\n",
      "* Dados los siguientes datos:\n",
      "<table>\n",
      "    <tr>\n",
      "        <th>x</th>\n",
      "        <th>1</th>\n",
      "        <th>2</th>\n",
      "        <th>3</th>\n",
      "        <th>5</th>\n",
      "        <th>6</th>\n",
      "    </tr>\n",
      "    <tr>\n",
      "        <td>f(x)</td>\n",
      "        <td>4.75</td>\n",
      "        <td>4</td>\n",
      "        <td>5.25</td>\n",
      "        <td>19.75</td>\n",
      "        <td>36</td>\n",
      "    </tr>\n",
      "</table>\n",
      "\n",
      "Calcular $f(3.5)$"
     ]
    },
    {
     "cell_type": "code",
     "collapsed": false,
     "input": [
      "l1i\n",
      "#fit {{1,4.75},{2,4},{3,5.25},{5,19.75},{6,36}} en wolframalpha"
     ],
     "language": "python",
     "metadata": {},
     "outputs": [
      {
       "metadata": {},
       "output_type": "pyout",
       "png": "[encoded data removed]",
       "prompt_number": 10,
       "text": [
        "<IPython.core.display.Image at 0x7f19fc2ec090>"
       ]
      }
     ],
     "prompt_number": 10
    },
    {
     "cell_type": "markdown",
     "metadata": {},
     "source": [
      "* Use los polinomios interpolantes de Lagrange apropiados de grados uno, dos y tres para aproximar $f(8.4)$ si $f(8.1) = 16.94410$, $f(8.3)=17.56492$, $f(8.6)=18.50515$, $f(8.7)=18.82091$.\n"
     ]
    },
    {
     "cell_type": "markdown",
     "metadata": {},
     "source": [
      "----\n",
      "\n",
      "#### 3. Interpolaci\u00f3n polinomial por pedazos \n",
      "\n",
      "El uso de polinomios  de interpolaci\u00f3n de alto grado puede producir erroes grandes debido al alto grado de oscilaci\u00f3n de este tipo de polinomios. Para evitar este problema se aproxima la funci\u00f3n desconocida en intervalos peque\u00f1os usando polinomios de grado bajo. El caso m\u00e1s com\u00fan de la interpolaci\u00f3n por pedazos es usar **polinomios c\u00fabicos**.\n",
      "\n",
      "#### 3.1. Interpolaci\u00f3n de Hermite\n",
      "\n",
      "Ete m\u00e9todo busca un polinomio por pedazos $H_{n}(x)$ que sea c\u00fabico en cada subintervalo $[x_{i-1}, x_{i}]$, $1<= i <= n$, y que interpole a $f(x)$ y $f'(x)$ en los puntos $x_{0}, ..., x_{n}$. La funci\u00f3n $H_{n}(x)$ queda determinada en forma \u00fanica por estas condiciones y su c\u00e1lculo requiere de la soluci\u00f3n de n sistemas lineales de tama\u00f1o 4x4 cada uno. La desventaja de la interpolaci\u00f3n Hermite es que requiere de la disponibilidad de los $f'(x_{i}), 0 <= i <= n$ lo cual no es el caso en muchas aplicaciones.\n",
      "\n",
      "Una forma r\u00e1pida de calcular los coefecientes de esta interpolaci\u00f3n es usar la tabla de *Diferencias Divididas de Newton*, duplicando los datos y donde quede la diferencia de dos valores iguales van los valores de las derivadas de cada nodo.\n",
      "\n",
      "**Seuc\u00f3digo** (139 de [3])\n",
      "\n",
      "ENTRADA los n\u00fameros $x_{0},x_{1}, ...,x_{n}$; valores $f(x_{0}), ..., f(x_{n})$ y $f'(x_{0}), ..., f'(x_{0})$.\n",
      "\n",
      "SALIDA los n\u00fameros $Q_{0,0}, Q_{1,1}, ..., Q_{2n+1,2n+1}$ donde\n",
      "$H(x) = Q_{0,0} + Q_{1,1}(x - x_{0}) + Q_{2,2}(x - x_{0})^2 + Q_{3,3}(x - x_{0})^2(x - x_{1}) + Q_{4,4}(x - x_{0})^2(x - x_{1})^2  + ... + Q_{2n+1,2n+1}(x - x_{0})^2(x - x_{1})^2...(x - x_{n-1})^2(x - x_{n})$\n",
      "\n",
      "PASO 1 Para i = 0,1,...,n haga pasos 2 y 3\n",
      "\n",
      "PASO 2 Sea $z_{2i} = x_{i}$ ;\n",
      "\n",
      "  $z_{2i+1} = x_{i}$;\n",
      "    \n",
      "  $Q_{2i,0} = f(x_{i})$;\n",
      "    \n",
      "  $Q_{2i+1,0} = f(x_{i})$;\n",
      "    \n",
      "  $Q_{2i+1,1} = f'(x_{i})$.\n",
      "\n",
      "PASO 3 si $i!=0$ entonces tome\n",
      "\n",
      "   $$Q_{2i,1} = \\frac{Q_{2i,0} - Q_{2i-1,0}}{z_{2i} - z_{2i-1}}$$\n",
      "\n",
      "PASO 4 Para $i = 2,3,...,2n+1$\n",
      "\n",
      "   para $j = 2,3,...i$ tomar \n",
      "   \n",
      "   $$Q_{i,j} = \\frac{Q_{i, j-1} - Q_{i-1,j-1}}{z_{i} - z_{i-j}}$$\n",
      "\n",
      "PASO 5 SALIDA $(Q_{0,0}, Q_{1,1},..., Q_{2n+1,2n+1})$; PARAR\n",
      "\n",
      "\n",
      "#### 3.2. Interpolaci\u00f3n mediante trazadores (splines) (p. 525 de [1] {549 del pdf}\n",
      "\n",
      "El tipo de polinomio por pedazos de Hermite tiene la desventaja de que su segunda derivada no es continua en los puntos de interpolaci\u00f3n. En aplicaciones gr\u00e1ficas, es importante que no hayan discontinuidades en las segundas derivadas de una funci\u00f3n, para que los gr\u00e1ficos con este tipo de funciones luzcan uniformes. Esto motiva el uso de *splines* que son funciones $s(x)$ continuas por pedazos con las siguientes propiedades:\n",
      "\n",
      "* $s(x)$ es un polinomio c\u00fabico en $[x_{i}, x_{i+1}]$ para $0<=i<=n-1$\n",
      "* $s'(x), s''(x)$ existen y son continuas en $[x_{0},x_{n}]$\n",
      "* $s(x)$ interpola a la funci\u00f3n f en los datos, esto es $s(x_{i})=f(x_{i})$\n",
      "* $s(x)$ es continua en $[x_{0},x_{n}]$\n",
      "* Tanto la funci\u00f3n como la primera y segunda derivada de s en un nodo para $s_{i}(x)$ y $s_{i+1}(x)$ son iguales.\n",
      "\n",
      "\n",
      "**Seuc\u00f3digo en la p\u00e1gina 536 de [1] (560 del pdf)**\n",
      "\n",
      "\n",
      "##### Ejercicios (537 de [1] {561 del pdf})\n",
      "\n",
      "Mostrar los **coeficientes del polinomio** obtenido y una tabla con los siguientes datos:\n",
      "<table>\n",
      "    <tr>\n",
      "        <th>Iteraci\u00f3n (n)</th>\n",
      "        <th>$x_{i}$</th>\n",
      "        <th>f($x_{i}$)</th>\n",
      "    </tr>\n",
      "    <tr>\n",
      "        <td></td>\n",
      "        <td></td>\n",
      "    </tr>\n",
      "</table>\n",
      "\n",
      "* 18.10\n",
      "* 18.11 (parte a)\n",
      "\n",
      "**Nota:** usar paquetes matem\u00e1ticos para solucionar los ejercicios de *splines* (570 de [1] {594 del pdf})\n",
      "\n",
      "\n",
      "**Nota**: conceptos b\u00e1sico de matrices y sus operaciones, p\u00e1gina 236 de [1] (260 del pdf)\n",
      "\n",
      "**Nota**: conceptos b\u00e1sicos de estad\u00edstica, p\u00e1gina 453 de [1] (477 del pdf)\n"
     ]
    },
    {
     "cell_type": "markdown",
     "metadata": {},
     "source": [
      "----\n",
      "\n",
      "### Referencias bibliogr\u00e1ficas\n",
      "\n",
      "* [1] M\u00e9todos num\u00e9ricos para ingenieros. Steven Chapra y Raymond Canale, quinta edici\u00f3n, 2007.\n",
      "* [2] An\u00e1lisis num\u00e9rico. Oswaldo Rodriguz D\u00edas, Escuela militar de aviaci\u00f3n Marco Fidel Suarez, 2003.\n",
      "* [3] An\u00e1lisis num\u00e9rico. Richard Burden y Douglas Faires, S\u00e9ptima edici\u00f3n, 2002.\n",
      "* Gr\u00e1ficas de la funciones: http://www.wolframalpha.com/\n"
     ]
    },
    {
     "cell_type": "code",
     "collapsed": false,
     "input": [],
     "language": "python",
     "metadata": {},
     "outputs": []
    }
   ],
   "metadata": {}
  }
 ]
}